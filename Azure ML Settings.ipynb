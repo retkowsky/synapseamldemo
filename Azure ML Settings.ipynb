{
 "cells": [
  {
   "cell_type": "markdown",
   "metadata": {},
   "source": [
    "# Azure ML Configuration"
   ]
  },
  {
   "cell_type": "markdown",
   "metadata": {},
   "source": [
    "<img src=\"https://github.com/retkowsky/images/blob/master/AzureMLservicebanniere.png?raw=true\">"
   ]
  },
  {
   "cell_type": "markdown",
   "metadata": {},
   "source": [
    "> Author: Serge Retkowsky Microsoft<br>\n",
    "> Date: 03-Sept-2020"
   ]
  },
  {
   "cell_type": "code",
   "execution_count": 10,
   "metadata": {},
   "outputs": [
    {
     "name": "stdout",
     "output_type": "stream",
     "text": [
      "You are using Python 3.6.9 |Anaconda, Inc.| (default, Jul 30 2019, 19:07:31) \n",
      "[GCC 7.3.0]\n"
     ]
    }
   ],
   "source": [
    "import sys\n",
    "print('You are using Python', sys.version)"
   ]
  },
  {
   "cell_type": "code",
   "execution_count": 11,
   "metadata": {},
   "outputs": [
    {
     "name": "stdout",
     "output_type": "stream",
     "text": [
      "azureml-accel-models                  1.9.0\n",
      "azureml-automl-core                   1.13.0\n",
      "azureml-automl-runtime                1.13.0\n",
      "azureml-cli-common                    1.9.0\n",
      "azureml-contrib-dataset               1.9.0\n",
      "azureml-contrib-fairness              1.9.0\n",
      "azureml-contrib-gbdt                  1.9.0\n",
      "azureml-contrib-interpret             1.9.0\n",
      "azureml-contrib-notebook              1.13.0\n",
      "azureml-contrib-pipeline-steps        1.13.0\n",
      "azureml-contrib-reinforcementlearning 1.9.0\n",
      "azureml-contrib-server                1.13.0\n",
      "azureml-contrib-services              1.13.0\n",
      "azureml-core                          1.13.0\n",
      "azureml-datadrift                     1.9.0\n",
      "azureml-dataprep                      2.0.2\n",
      "azureml-dataprep-native               14.2.1\n",
      "azureml-dataset-runtime               1.13.0\n",
      "azureml-defaults                      1.13.0\n",
      "azureml-explain-model                 1.13.0\n",
      "azureml-interpret                     1.13.0\n",
      "azureml-mlflow                        1.9.0\n",
      "azureml-model-management-sdk          1.0.1b6.post1\n",
      "azureml-monitoring                    0.1.0a18\n",
      "azureml-opendatasets                  1.9.0\n",
      "azureml-pipeline                      1.13.0\n",
      "azureml-pipeline-core                 1.13.0\n",
      "azureml-pipeline-steps                1.13.0\n",
      "azureml-samples                       0+unknown\n",
      "azureml-sdk                           1.13.0\n",
      "azureml-telemetry                     1.13.0\n",
      "azureml-tensorboard                   1.13.0\n",
      "azureml-train                         1.13.0\n",
      "azureml-train-automl                  1.13.0\n",
      "azureml-train-automl-client           1.13.0\n",
      "azureml-train-automl-runtime          1.13.0\n",
      "azureml-train-core                    1.13.0\n",
      "azureml-train-restclients-hyperdrive  1.13.0\n",
      "azureml-widgets                       1.13.0\n",
      "Note: you may need to restart the kernel to use updated packages.\n"
     ]
    }
   ],
   "source": [
    "pip list | grep azureml"
   ]
  },
  {
   "cell_type": "code",
   "execution_count": 12,
   "metadata": {},
   "outputs": [
    {
     "name": "stdout",
     "output_type": "stream",
     "text": [
      "You are using Azure ML 1.13.0\n"
     ]
    }
   ],
   "source": [
    "import azureml.core\n",
    "print(\"You are using Azure ML\", azureml.core.VERSION)"
   ]
  },
  {
   "cell_type": "markdown",
   "metadata": {},
   "source": [
    "## For upgrading Azure ML"
   ]
  },
  {
   "cell_type": "code",
   "execution_count": 13,
   "metadata": {},
   "outputs": [],
   "source": [
    "#!pip install --upgrade azureml-sdk\n",
    "#!pip install --upgrade azureml-sdk[automl,notebooks,explain,contrib,services,tensorboard]"
   ]
  },
  {
   "cell_type": "markdown",
   "metadata": {},
   "source": [
    "## Session Information"
   ]
  },
  {
   "cell_type": "code",
   "execution_count": 14,
   "metadata": {},
   "outputs": [
    {
     "name": "stdout",
     "output_type": "stream",
     "text": [
      "Versions :\n",
      "- Python = 3.6.9 |Anaconda, Inc.| (default, Jul 30 2019, 19:07:31) \n",
      "[GCC 7.3.0]\n",
      "- scipy = 1.4.1\n",
      "- numpy = 1.16.2\n",
      "- matplotlib = 3.2.2\n",
      "- pandas = 0.23.4\n",
      "- sklearn = 0.20.3\n",
      "- Azure ML = 1.13.0\n"
     ]
    }
   ],
   "source": [
    "import scipy, numpy, matplotlib, pandas, sklearn\n",
    "print(\"Versions :\")\n",
    "print('- Python = {}'.format(sys.version))\n",
    "print('- scipy = {}'.format(scipy.__version__))\n",
    "print('- numpy = {}'.format(numpy.__version__))\n",
    "print('- matplotlib = {}'.format(matplotlib.__version__))\n",
    "print('- pandas = {}'.format(pandas.__version__))\n",
    "print('- sklearn = {}'.format(sklearn.__version__))\n",
    "print(\"- Azure ML =\",azureml.core.VERSION)"
   ]
  },
  {
   "cell_type": "markdown",
   "metadata": {},
   "source": [
    "## Workspace"
   ]
  },
  {
   "cell_type": "code",
   "execution_count": 16,
   "metadata": {},
   "outputs": [
    {
     "name": "stdout",
     "output_type": "stream",
     "text": [
      "OK\n"
     ]
    }
   ],
   "source": [
    "import os\n",
    "subscription_id = os.environ.get(\"SUBSCRIPTION_ID\", \"70b8f39e-8863-49f7-b6ba-34a80799550c\")\n",
    "resource_group = os.environ.get(\"RESOURCE_GROUP\", \"azuremlsynapse-rg\")\n",
    "workspace_name = os.environ.get(\"WORKSPACE_NAME\", \"azuremlsynapse\")\n",
    "\n",
    "from azureml.core import Workspace\n",
    "try:\n",
    "   ws = Workspace(subscription_id = subscription_id, resource_group = resource_group, workspace_name = workspace_name)\n",
    "   ws.write_config()\n",
    "   print(\"OK\")\n",
    "except:\n",
    "   print(\"Error: Workspace not found\")"
   ]
  },
  {
   "cell_type": "code",
   "execution_count": 17,
   "metadata": {},
   "outputs": [
    {
     "name": "stdout",
     "output_type": "stream",
     "text": [
      "Workspace OK\n"
     ]
    }
   ],
   "source": [
    "from azureml.core import Workspace\n",
    "\n",
    "try:\n",
    "   ws = Workspace(subscription_id = subscription_id, resource_group = resource_group, workspace_name = workspace_name)\n",
    "   ws.write_config()\n",
    "   print(\"Workspace OK\")\n",
    "except:\n",
    "   print(\"Error\")"
   ]
  },
  {
   "cell_type": "markdown",
   "metadata": {},
   "source": [
    "## Workspace information"
   ]
  },
  {
   "cell_type": "code",
   "execution_count": 19,
   "metadata": {},
   "outputs": [
    {
     "data": {
      "text/plain": [
       "{'id': '/subscriptions/70b8f39e-8863-49f7-b6ba-34a80799550c/resourceGroups/azuremlsynapse-rg/providers/Microsoft.MachineLearningServices/workspaces/azuremlsynapse',\n",
       " 'name': 'azuremlsynapse',\n",
       " 'location': 'westeurope',\n",
       " 'type': 'Microsoft.MachineLearningServices/workspaces',\n",
       " 'tags': {},\n",
       " 'sku': 'Enterprise',\n",
       " 'workspaceid': '8de3f01c-f4e4-427c-b948-069a8777671d',\n",
       " 'description': '',\n",
       " 'friendlyName': 'azuremlsynapse',\n",
       " 'creationTime': '2020-08-05T12:48:50.4699175+00:00',\n",
       " 'containerRegistry': '/subscriptions/70b8f39e-8863-49f7-b6ba-34a80799550c/resourceGroups/azuremlsynapse-rg/providers/Microsoft.ContainerRegistry/registries/8de3f01cf4e4427cb948069a8777671d',\n",
       " 'keyVault': '/subscriptions/70b8f39e-8863-49f7-b6ba-34a80799550c/resourcegroups/azuremlsynapse-rg/providers/microsoft.keyvault/vaults/azuremlsynapse7769163964',\n",
       " 'applicationInsights': '/subscriptions/70b8f39e-8863-49f7-b6ba-34a80799550c/resourcegroups/azuremlsynapse-rg/providers/microsoft.insights/components/azuremlsynapse2044063133',\n",
       " 'identityPrincipalId': '08a4c5b7-ec3f-4b46-aa75-384bd0ff3e14',\n",
       " 'identityTenantId': '72f988bf-86f1-41af-91ab-2d7cd011db47',\n",
       " 'identityType': 'SystemAssigned',\n",
       " 'storageAccount': '/subscriptions/70b8f39e-8863-49f7-b6ba-34a80799550c/resourcegroups/azuremlsynapse-rg/providers/microsoft.storage/storageaccounts/azuremlsynapse7444165737',\n",
       " 'hbiWorkspace': False,\n",
       " 'discoveryUrl': 'https://westeurope.experiments.azureml.net/discovery',\n",
       " 'notebookInfo': {'fqdn': 'ml-azuremlsynap-westeurope-8de3f01c-f4e4-427c-b948-069a8777671d.notebooks.azure.net',\n",
       "  'resource_id': 'ff7899166c584cd9907541f2423ee5c4'}}"
      ]
     },
     "execution_count": 19,
     "metadata": {},
     "output_type": "execute_result"
    }
   ],
   "source": [
    "from azureml.core.workspace import Workspace\n",
    "ws = Workspace.from_config()\n",
    "ws.get_details()"
   ]
  },
  {
   "cell_type": "code",
   "execution_count": null,
   "metadata": {},
   "outputs": [],
   "source": []
  }
 ],
 "metadata": {
  "kernelspec": {
   "display_name": "Python 3.6 - AzureML",
   "language": "python",
   "name": "python3-azureml"
  },
  "language_info": {
   "codemirror_mode": {
    "name": "ipython",
    "version": 3
   },
   "file_extension": ".py",
   "mimetype": "text/x-python",
   "name": "python",
   "nbconvert_exporter": "python",
   "pygments_lexer": "ipython3",
   "version": "3.6.9"
  }
 },
 "nbformat": 4,
 "nbformat_minor": 4
}
