{
 "cells": [
  {
   "cell_type": "markdown",
   "metadata": {},
   "source": [
    "# Modeling the return rate of marketing campaigns with AutoML"
   ]
  },
  {
   "cell_type": "markdown",
   "metadata": {},
   "source": [
    "<img src=\"https://github.com/retkowsky/images/blob/master/AzureMLservicebanniere.png?raw=true\">"
   ]
  },
  {
   "cell_type": "markdown",
   "metadata": {},
   "source": [
    "> Author: Serge Retkowsky Microsoft<br>\n",
    "> Date: 03-Sept-2020"
   ]
  },
  {
   "cell_type": "markdown",
   "metadata": {},
   "source": [
    "## Description\n",
    "We want to predict the likelihood of a marketing campaign using Machine Learning.\n",
    "AutoML from Azure ML will automatically find the best model."
   ]
  },
  {
   "cell_type": "markdown",
   "metadata": {},
   "source": [
    "## Objectives\n",
    "**Automated machine learning**, also referred to as automated ML or AutoML, is the process of automating the time consuming, iterative tasks of machine learning model development. It allows data scientists, analysts, and developers to build ML models with high scale, efficiency, and productivity all while sustaining model quality. Automated ML is based on a breakthrough from our Microsoft Research division."
   ]
  },
  {
   "cell_type": "markdown",
   "metadata": {},
   "source": [
    "## Steps\n",
    "We will access to the dataset in order to apply the AutoML process. We will find the best autoML pipeline and then we can register our best model.\n",
    "\n",
    "Configuration options available in automated machine learning:\n",
    "\n",
    "- Select your experiment type: Classification, Regression, or Time Series Forecasting\n",
    "- Data source, formats, and fetch data\n",
    "- Choose your compute target: local or remote\n",
    "- Automated machine learning experiment settings\n",
    "- Run an automated machine learning experiment\n",
    "- Explore model metrics\n",
    "- Register and deploy model\n",
    "\n",
    "If you prefer a no code experience, you can also Create your automated machine learning experiments in Azure Machine Learning studio.\n"
   ]
  },
  {
   "cell_type": "markdown",
   "metadata": {},
   "source": [
    "<img src=\"https://github.com/retkowsky/images/blob/master/autoML.png?raw=true\">"
   ]
  },
  {
   "cell_type": "markdown",
   "metadata": {},
   "source": [
    "## 0. Settings"
   ]
  },
  {
   "cell_type": "code",
   "execution_count": 23,
   "metadata": {},
   "outputs": [
    {
     "name": "stdout",
     "output_type": "stream",
     "text": [
      "You are using Python 3.6.9 |Anaconda, Inc.| (default, Jul 30 2019, 19:07:31) \n",
      "[GCC 7.3.0]\n"
     ]
    }
   ],
   "source": [
    "import sys\n",
    "print('You are using Python', sys.version)"
   ]
  },
  {
   "cell_type": "code",
   "execution_count": 24,
   "metadata": {},
   "outputs": [
    {
     "name": "stdout",
     "output_type": "stream",
     "text": [
      "Today is 2020-09-03 11:05:22.944741\n"
     ]
    }
   ],
   "source": [
    "import datetime\n",
    "now = datetime.datetime.now()\n",
    "print('Today is', now)"
   ]
  },
  {
   "cell_type": "code",
   "execution_count": 25,
   "metadata": {},
   "outputs": [
    {
     "name": "stdout",
     "output_type": "stream",
     "text": [
      "You are using Azure ML 1.13.0\n"
     ]
    }
   ],
   "source": [
    "import azureml.core\n",
    "print(\"You are using Azure ML\", azureml.core.VERSION)"
   ]
  },
  {
   "cell_type": "code",
   "execution_count": 26,
   "metadata": {},
   "outputs": [],
   "source": [
    "import pandas as pd\n",
    "import numpy as np\n",
    "import pandas.io.sql as pd_sql\n",
    "\n",
    "import azureml.core\n",
    "from azureml.core.experiment import Experiment\n",
    "from azureml.core.workspace import Workspace\n",
    "from azureml.train.automl import AutoMLConfig\n",
    "from azureml.train.automl.run import AutoMLRun\n",
    "\n",
    "import logging\n",
    "import os\n",
    "import random"
   ]
  },
  {
   "cell_type": "code",
   "execution_count": 27,
   "metadata": {},
   "outputs": [
    {
     "name": "stdout",
     "output_type": "stream",
     "text": [
      "OK\n"
     ]
    }
   ],
   "source": [
    "import os\n",
    "subscription_id = os.environ.get(\"SUBSCRIPTION_ID\", \"70b8f39e-8863-49f7-b6ba-34a80799550c\")\n",
    "resource_group = os.environ.get(\"RESOURCE_GROUP\", \"azuremlsynapse-rg\")\n",
    "workspace_name = os.environ.get(\"WORKSPACE_NAME\", \"azuremlsynapse\")\n",
    "\n",
    "from azureml.core import Workspace\n",
    "try:\n",
    "   ws = Workspace(subscription_id = subscription_id, resource_group = resource_group, workspace_name = workspace_name)\n",
    "   ws.write_config()\n",
    "   print(\"OK\")\n",
    "except:\n",
    "   print(\"Error: Workspace not found\")"
   ]
  },
  {
   "cell_type": "markdown",
   "metadata": {},
   "source": [
    "## 1. Azure ML experimentation"
   ]
  },
  {
   "cell_type": "code",
   "execution_count": 28,
   "metadata": {},
   "outputs": [
    {
     "name": "stdout",
     "output_type": "stream",
     "text": [
      "Workspace OK\n"
     ]
    }
   ],
   "source": [
    "from azureml.core import Workspace\n",
    "\n",
    "try:\n",
    "   ws = Workspace(subscription_id = subscription_id, resource_group = resource_group, workspace_name = workspace_name)\n",
    "   ws.write_config()\n",
    "   print(\"Workspace OK\")\n",
    "except:\n",
    "   print(\"Error\")"
   ]
  },
  {
   "cell_type": "code",
   "execution_count": 29,
   "metadata": {},
   "outputs": [
    {
     "data": {
      "text/html": [
       "<div>\n",
       "<style scoped>\n",
       "    .dataframe tbody tr th:only-of-type {\n",
       "        vertical-align: middle;\n",
       "    }\n",
       "\n",
       "    .dataframe tbody tr th {\n",
       "        vertical-align: top;\n",
       "    }\n",
       "\n",
       "    .dataframe thead th {\n",
       "        text-align: right;\n",
       "    }\n",
       "</style>\n",
       "<table border=\"1\" class=\"dataframe\">\n",
       "  <thead>\n",
       "    <tr style=\"text-align: right;\">\n",
       "      <th></th>\n",
       "      <th></th>\n",
       "    </tr>\n",
       "  </thead>\n",
       "  <tbody>\n",
       "    <tr>\n",
       "      <th>Workspace</th>\n",
       "      <td>azuremlsynapse</td>\n",
       "    </tr>\n",
       "    <tr>\n",
       "      <th>Resource Group</th>\n",
       "      <td>azuremlsynapse-rg</td>\n",
       "    </tr>\n",
       "    <tr>\n",
       "      <th>Location</th>\n",
       "      <td>westeurope</td>\n",
       "    </tr>\n",
       "    <tr>\n",
       "      <th>Experiment Name</th>\n",
       "      <td>AutoMLMarketing</td>\n",
       "    </tr>\n",
       "  </tbody>\n",
       "</table>\n",
       "</div>"
      ],
      "text/plain": [
       "                                  \n",
       "Workspace        azuremlsynapse   \n",
       "Resource Group   azuremlsynapse-rg\n",
       "Location         westeurope       \n",
       "Experiment Name  AutoMLMarketing  "
      ]
     },
     "execution_count": 29,
     "metadata": {},
     "output_type": "execute_result"
    }
   ],
   "source": [
    "ws = Workspace.from_config()\n",
    "\n",
    "experiment_name = 'AutoMLMarketing'\n",
    "\n",
    "experiment=Experiment(ws, experiment_name)\n",
    "\n",
    "output = {}\n",
    "output['Workspace'] = ws.name\n",
    "output['Resource Group'] = ws.resource_group\n",
    "output['Location'] = ws.location\n",
    "output['Experiment Name'] = experiment.name\n",
    "pd.set_option('display.max_colwidth', -1)\n",
    "outputDf = pd.DataFrame(data = output, index = [''])\n",
    "outputDf.T"
   ]
  },
  {
   "cell_type": "markdown",
   "metadata": {},
   "source": [
    "## 2. Data Access"
   ]
  },
  {
   "cell_type": "code",
   "execution_count": 32,
   "metadata": {},
   "outputs": [],
   "source": [
    "from azureml.core import Workspace, Dataset\n",
    "\n",
    "subscription_id = '70b8f39e-8863-49f7-b6ba-34a80799550c'\n",
    "resource_group = 'azuremlsynapse-rg'\n",
    "workspace_name = 'azuremlsynapse'\n",
    "\n",
    "workspace = Workspace(subscription_id, resource_group, workspace_name)\n",
    "\n",
    "dataset = Dataset.get_by_name(workspace, name='CampagnesMKT')\n",
    "data=dataset.to_pandas_dataframe()"
   ]
  },
  {
   "cell_type": "code",
   "execution_count": 33,
   "metadata": {},
   "outputs": [
    {
     "data": {
      "text/html": [
       "<div>\n",
       "<style scoped>\n",
       "    .dataframe tbody tr th:only-of-type {\n",
       "        vertical-align: middle;\n",
       "    }\n",
       "\n",
       "    .dataframe tbody tr th {\n",
       "        vertical-align: top;\n",
       "    }\n",
       "\n",
       "    .dataframe thead th {\n",
       "        text-align: right;\n",
       "    }\n",
       "</style>\n",
       "<table border=\"1\" class=\"dataframe\">\n",
       "  <thead>\n",
       "    <tr style=\"text-align: right;\">\n",
       "      <th></th>\n",
       "      <th>CodeClient</th>\n",
       "      <th>Retour</th>\n",
       "      <th>PointsFid</th>\n",
       "      <th>StatutMarital</th>\n",
       "      <th>Nombre_enfant</th>\n",
       "      <th>CanalWeb</th>\n",
       "      <th>MagasinMontparnasse</th>\n",
       "      <th>MagasinWagram</th>\n",
       "      <th>CarteFidGOLD</th>\n",
       "      <th>Segment</th>\n",
       "      <th>...</th>\n",
       "      <th>CreationClient</th>\n",
       "      <th>Email</th>\n",
       "      <th>Twitter</th>\n",
       "      <th>Facebook</th>\n",
       "      <th>Klout</th>\n",
       "      <th>AppMobile</th>\n",
       "      <th>Magasin</th>\n",
       "      <th>Newsletter</th>\n",
       "      <th>AgeClient</th>\n",
       "      <th>AncienneteClientJours</th>\n",
       "    </tr>\n",
       "  </thead>\n",
       "  <tbody>\n",
       "    <tr>\n",
       "      <th>0</th>\n",
       "      <td>4094343</td>\n",
       "      <td>Non</td>\n",
       "      <td>19416.80</td>\n",
       "      <td>Oui</td>\n",
       "      <td>0.00</td>\n",
       "      <td>Non</td>\n",
       "      <td>Oui</td>\n",
       "      <td>Oui</td>\n",
       "      <td>Non</td>\n",
       "      <td>AMBASSADEUR</td>\n",
       "      <td>...</td>\n",
       "      <td>2016-09-15</td>\n",
       "      <td>GAELLE_OJEDA@outlook.fr</td>\n",
       "      <td>None</td>\n",
       "      <td>GAELLE.OJEDA@facebook.com</td>\n",
       "      <td>17.00</td>\n",
       "      <td>0.00</td>\n",
       "      <td>Montparnasse</td>\n",
       "      <td>0.00</td>\n",
       "      <td>31.08</td>\n",
       "      <td>1420.00</td>\n",
       "    </tr>\n",
       "    <tr>\n",
       "      <th>1</th>\n",
       "      <td>4096192</td>\n",
       "      <td>Non</td>\n",
       "      <td>23638.10</td>\n",
       "      <td>Oui</td>\n",
       "      <td>2.00</td>\n",
       "      <td>Oui</td>\n",
       "      <td>Oui</td>\n",
       "      <td>Oui</td>\n",
       "      <td>Non</td>\n",
       "      <td>STAR</td>\n",
       "      <td>...</td>\n",
       "      <td>2016-07-05</td>\n",
       "      <td>Dominique.BOSSO@gmail.com</td>\n",
       "      <td>http://twitter.com/BOSSO</td>\n",
       "      <td>Dominique.BOSSO@facebook.com</td>\n",
       "      <td>6.00</td>\n",
       "      <td>0.00</td>\n",
       "      <td>Montparnasse</td>\n",
       "      <td>0.00</td>\n",
       "      <td>33.24</td>\n",
       "      <td>1492.00</td>\n",
       "    </tr>\n",
       "    <tr>\n",
       "      <th>2</th>\n",
       "      <td>4101924</td>\n",
       "      <td>Oui</td>\n",
       "      <td>42378.20</td>\n",
       "      <td>Oui</td>\n",
       "      <td>1.00</td>\n",
       "      <td>Non</td>\n",
       "      <td>Oui</td>\n",
       "      <td>Oui</td>\n",
       "      <td>Non</td>\n",
       "      <td>ABCISTES</td>\n",
       "      <td>...</td>\n",
       "      <td>2015-12-14</td>\n",
       "      <td>MOSER@yahoo.fr</td>\n",
       "      <td>None</td>\n",
       "      <td>Coline.MOSER@facebook.com</td>\n",
       "      <td>148.00</td>\n",
       "      <td>1.00</td>\n",
       "      <td>Montparnasse</td>\n",
       "      <td>0.00</td>\n",
       "      <td>27.50</td>\n",
       "      <td>1696.00</td>\n",
       "    </tr>\n",
       "    <tr>\n",
       "      <th>3</th>\n",
       "      <td>4101928</td>\n",
       "      <td>Non</td>\n",
       "      <td>39745.30</td>\n",
       "      <td>Oui</td>\n",
       "      <td>0.00</td>\n",
       "      <td>Oui</td>\n",
       "      <td>Oui</td>\n",
       "      <td>Non</td>\n",
       "      <td>Oui</td>\n",
       "      <td>STAR</td>\n",
       "      <td>...</td>\n",
       "      <td>2016-09-15</td>\n",
       "      <td>CLAUDE.LEBOUVIER@gmail.com</td>\n",
       "      <td>None</td>\n",
       "      <td>LEBOUVIER@facebook.fr</td>\n",
       "      <td>43.00</td>\n",
       "      <td>0.00</td>\n",
       "      <td>Montparnasse</td>\n",
       "      <td>0.00</td>\n",
       "      <td>39.95</td>\n",
       "      <td>1420.00</td>\n",
       "    </tr>\n",
       "    <tr>\n",
       "      <th>4</th>\n",
       "      <td>4103571</td>\n",
       "      <td>Non</td>\n",
       "      <td>45189.80</td>\n",
       "      <td>Oui</td>\n",
       "      <td>0.00</td>\n",
       "      <td>Non</td>\n",
       "      <td>Oui</td>\n",
       "      <td>Non</td>\n",
       "      <td>Non</td>\n",
       "      <td>AMBASSADEUR</td>\n",
       "      <td>...</td>\n",
       "      <td>2015-10-27</td>\n",
       "      <td>SONNERY COTTET@yahoo.fr</td>\n",
       "      <td>http://twitter.com/SONNERY COTTET</td>\n",
       "      <td>Denise.SONNERY COTTET@facebook.com</td>\n",
       "      <td>44.00</td>\n",
       "      <td>0.00</td>\n",
       "      <td>Montparnasse</td>\n",
       "      <td>0.00</td>\n",
       "      <td>45.82</td>\n",
       "      <td>1744.00</td>\n",
       "    </tr>\n",
       "  </tbody>\n",
       "</table>\n",
       "<p>5 rows × 27 columns</p>\n",
       "</div>"
      ],
      "text/plain": [
       "   CodeClient Retour  PointsFid StatutMarital  Nombre_enfant CanalWeb  \\\n",
       "0  4094343     Non   19416.80    Oui          0.00            Non       \n",
       "1  4096192     Non   23638.10    Oui          2.00            Oui       \n",
       "2  4101924     Oui   42378.20    Oui          1.00            Non       \n",
       "3  4101928     Non   39745.30    Oui          0.00            Oui       \n",
       "4  4103571     Non   45189.80    Oui          0.00            Non       \n",
       "\n",
       "  MagasinMontparnasse MagasinWagram CarteFidGOLD      Segment  \\\n",
       "0  Oui                 Oui           Non          AMBASSADEUR   \n",
       "1  Oui                 Oui           Non          STAR          \n",
       "2  Oui                 Oui           Non          ABCISTES      \n",
       "3  Oui                 Non           Oui          STAR          \n",
       "4  Oui                 Non           Non          AMBASSADEUR   \n",
       "\n",
       "           ...          CreationClient                       Email  \\\n",
       "0          ...          2016-09-15      GAELLE_OJEDA@outlook.fr      \n",
       "1          ...          2016-07-05      Dominique.BOSSO@gmail.com    \n",
       "2          ...          2015-12-14      MOSER@yahoo.fr               \n",
       "3          ...          2016-09-15      CLAUDE.LEBOUVIER@gmail.com   \n",
       "4          ...          2015-10-27      SONNERY COTTET@yahoo.fr      \n",
       "\n",
       "                             Twitter                            Facebook  \\\n",
       "0  None                               GAELLE.OJEDA@facebook.com            \n",
       "1  http://twitter.com/BOSSO           Dominique.BOSSO@facebook.com         \n",
       "2  None                               Coline.MOSER@facebook.com            \n",
       "3  None                               LEBOUVIER@facebook.fr                \n",
       "4  http://twitter.com/SONNERY COTTET  Denise.SONNERY COTTET@facebook.com   \n",
       "\n",
       "   Klout AppMobile       Magasin Newsletter AgeClient AncienneteClientJours  \n",
       "0 17.00  0.00       Montparnasse 0.00       31.08     1420.00                \n",
       "1 6.00   0.00       Montparnasse 0.00       33.24     1492.00                \n",
       "2 148.00 1.00       Montparnasse 0.00       27.50     1696.00                \n",
       "3 43.00  0.00       Montparnasse 0.00       39.95     1420.00                \n",
       "4 44.00  0.00       Montparnasse 0.00       45.82     1744.00                \n",
       "\n",
       "[5 rows x 27 columns]"
      ]
     },
     "execution_count": 33,
     "metadata": {},
     "output_type": "execute_result"
    }
   ],
   "source": [
    "data.head()"
   ]
  },
  {
   "cell_type": "code",
   "execution_count": 34,
   "metadata": {},
   "outputs": [],
   "source": [
    "df=data.drop(['CodeClient', 'Adresse', 'Email', 'Nom', 'Prenom', 'CodePostal', 'Commune', 'DateNaissance' ], axis=1)"
   ]
  },
  {
   "cell_type": "markdown",
   "metadata": {},
   "source": [
    "### Statistics"
   ]
  },
  {
   "cell_type": "code",
   "execution_count": 35,
   "metadata": {},
   "outputs": [
    {
     "data": {
      "text/html": [
       "<div>\n",
       "<style scoped>\n",
       "    .dataframe tbody tr th:only-of-type {\n",
       "        vertical-align: middle;\n",
       "    }\n",
       "\n",
       "    .dataframe tbody tr th {\n",
       "        vertical-align: top;\n",
       "    }\n",
       "\n",
       "    .dataframe thead th {\n",
       "        text-align: right;\n",
       "    }\n",
       "</style>\n",
       "<table border=\"1\" class=\"dataframe\">\n",
       "  <thead>\n",
       "    <tr style=\"text-align: right;\">\n",
       "      <th></th>\n",
       "      <th>PointsFid</th>\n",
       "      <th>Nombre_enfant</th>\n",
       "      <th>Klout</th>\n",
       "      <th>AppMobile</th>\n",
       "      <th>Newsletter</th>\n",
       "      <th>AgeClient</th>\n",
       "      <th>AncienneteClientJours</th>\n",
       "    </tr>\n",
       "  </thead>\n",
       "  <tbody>\n",
       "    <tr>\n",
       "      <th>count</th>\n",
       "      <td>900.00</td>\n",
       "      <td>900.00</td>\n",
       "      <td>818.00</td>\n",
       "      <td>818.00</td>\n",
       "      <td>818.00</td>\n",
       "      <td>818.00</td>\n",
       "      <td>818.00</td>\n",
       "    </tr>\n",
       "    <tr>\n",
       "      <th>mean</th>\n",
       "      <td>27210.23</td>\n",
       "      <td>0.97</td>\n",
       "      <td>31.41</td>\n",
       "      <td>0.10</td>\n",
       "      <td>0.09</td>\n",
       "      <td>35.43</td>\n",
       "      <td>1661.31</td>\n",
       "    </tr>\n",
       "    <tr>\n",
       "      <th>std</th>\n",
       "      <td>13384.17</td>\n",
       "      <td>1.04</td>\n",
       "      <td>29.54</td>\n",
       "      <td>0.30</td>\n",
       "      <td>0.29</td>\n",
       "      <td>8.65</td>\n",
       "      <td>210.83</td>\n",
       "    </tr>\n",
       "    <tr>\n",
       "      <th>min</th>\n",
       "      <td>137.20</td>\n",
       "      <td>0.00</td>\n",
       "      <td>0.00</td>\n",
       "      <td>0.00</td>\n",
       "      <td>0.00</td>\n",
       "      <td>20.60</td>\n",
       "      <td>1312.00</td>\n",
       "    </tr>\n",
       "    <tr>\n",
       "      <th>25%</th>\n",
       "      <td>17074.23</td>\n",
       "      <td>0.00</td>\n",
       "      <td>11.00</td>\n",
       "      <td>0.00</td>\n",
       "      <td>0.00</td>\n",
       "      <td>28.60</td>\n",
       "      <td>1480.00</td>\n",
       "    </tr>\n",
       "    <tr>\n",
       "      <th>50%</th>\n",
       "      <td>25252.85</td>\n",
       "      <td>1.00</td>\n",
       "      <td>24.00</td>\n",
       "      <td>0.00</td>\n",
       "      <td>0.00</td>\n",
       "      <td>34.47</td>\n",
       "      <td>1660.00</td>\n",
       "    </tr>\n",
       "    <tr>\n",
       "      <th>75%</th>\n",
       "      <td>36610.85</td>\n",
       "      <td>2.00</td>\n",
       "      <td>41.00</td>\n",
       "      <td>0.00</td>\n",
       "      <td>0.00</td>\n",
       "      <td>41.51</td>\n",
       "      <td>1852.00</td>\n",
       "    </tr>\n",
       "    <tr>\n",
       "      <th>max</th>\n",
       "      <td>61554.60</td>\n",
       "      <td>3.00</td>\n",
       "      <td>197.00</td>\n",
       "      <td>1.00</td>\n",
       "      <td>1.00</td>\n",
       "      <td>62.89</td>\n",
       "      <td>2020.00</td>\n",
       "    </tr>\n",
       "  </tbody>\n",
       "</table>\n",
       "</div>"
      ],
      "text/plain": [
       "       PointsFid  Nombre_enfant  Klout  AppMobile  Newsletter  AgeClient  \\\n",
       "count 900.00     900.00         818.00 818.00     818.00      818.00       \n",
       "mean  27210.23   0.97           31.41  0.10       0.09        35.43        \n",
       "std   13384.17   1.04           29.54  0.30       0.29        8.65         \n",
       "min   137.20     0.00           0.00   0.00       0.00        20.60        \n",
       "25%   17074.23   0.00           11.00  0.00       0.00        28.60        \n",
       "50%   25252.85   1.00           24.00  0.00       0.00        34.47        \n",
       "75%   36610.85   2.00           41.00  0.00       0.00        41.51        \n",
       "max   61554.60   3.00           197.00 1.00       1.00        62.89        \n",
       "\n",
       "       AncienneteClientJours  \n",
       "count 818.00                  \n",
       "mean  1661.31                 \n",
       "std   210.83                  \n",
       "min   1312.00                 \n",
       "25%   1480.00                 \n",
       "50%   1660.00                 \n",
       "75%   1852.00                 \n",
       "max   2020.00                 "
      ]
     },
     "execution_count": 35,
     "metadata": {},
     "output_type": "execute_result"
    }
   ],
   "source": [
    "df.describe()"
   ]
  },
  {
   "cell_type": "markdown",
   "metadata": {},
   "source": [
    "### Correlations"
   ]
  },
  {
   "cell_type": "code",
   "execution_count": 36,
   "metadata": {},
   "outputs": [
    {
     "data": {
      "text/html": [
       "<div>\n",
       "<style scoped>\n",
       "    .dataframe tbody tr th:only-of-type {\n",
       "        vertical-align: middle;\n",
       "    }\n",
       "\n",
       "    .dataframe tbody tr th {\n",
       "        vertical-align: top;\n",
       "    }\n",
       "\n",
       "    .dataframe thead th {\n",
       "        text-align: right;\n",
       "    }\n",
       "</style>\n",
       "<table border=\"1\" class=\"dataframe\">\n",
       "  <thead>\n",
       "    <tr style=\"text-align: right;\">\n",
       "      <th></th>\n",
       "      <th>PointsFid</th>\n",
       "      <th>Nombre_enfant</th>\n",
       "      <th>Klout</th>\n",
       "      <th>AppMobile</th>\n",
       "      <th>Newsletter</th>\n",
       "      <th>AgeClient</th>\n",
       "      <th>AncienneteClientJours</th>\n",
       "    </tr>\n",
       "  </thead>\n",
       "  <tbody>\n",
       "    <tr>\n",
       "      <th>PointsFid</th>\n",
       "      <td>1.00</td>\n",
       "      <td>0.03</td>\n",
       "      <td>0.02</td>\n",
       "      <td>0.05</td>\n",
       "      <td>-0.04</td>\n",
       "      <td>-0.02</td>\n",
       "      <td>0.03</td>\n",
       "    </tr>\n",
       "    <tr>\n",
       "      <th>Nombre_enfant</th>\n",
       "      <td>0.03</td>\n",
       "      <td>1.00</td>\n",
       "      <td>0.02</td>\n",
       "      <td>-0.03</td>\n",
       "      <td>0.05</td>\n",
       "      <td>0.01</td>\n",
       "      <td>0.07</td>\n",
       "    </tr>\n",
       "    <tr>\n",
       "      <th>Klout</th>\n",
       "      <td>0.02</td>\n",
       "      <td>0.02</td>\n",
       "      <td>1.00</td>\n",
       "      <td>0.05</td>\n",
       "      <td>-0.03</td>\n",
       "      <td>0.05</td>\n",
       "      <td>0.04</td>\n",
       "    </tr>\n",
       "    <tr>\n",
       "      <th>AppMobile</th>\n",
       "      <td>0.05</td>\n",
       "      <td>-0.03</td>\n",
       "      <td>0.05</td>\n",
       "      <td>1.00</td>\n",
       "      <td>0.03</td>\n",
       "      <td>-0.00</td>\n",
       "      <td>0.00</td>\n",
       "    </tr>\n",
       "    <tr>\n",
       "      <th>Newsletter</th>\n",
       "      <td>-0.04</td>\n",
       "      <td>0.05</td>\n",
       "      <td>-0.03</td>\n",
       "      <td>0.03</td>\n",
       "      <td>1.00</td>\n",
       "      <td>0.03</td>\n",
       "      <td>0.01</td>\n",
       "    </tr>\n",
       "    <tr>\n",
       "      <th>AgeClient</th>\n",
       "      <td>-0.02</td>\n",
       "      <td>0.01</td>\n",
       "      <td>0.05</td>\n",
       "      <td>-0.00</td>\n",
       "      <td>0.03</td>\n",
       "      <td>1.00</td>\n",
       "      <td>0.01</td>\n",
       "    </tr>\n",
       "    <tr>\n",
       "      <th>AncienneteClientJours</th>\n",
       "      <td>0.03</td>\n",
       "      <td>0.07</td>\n",
       "      <td>0.04</td>\n",
       "      <td>0.00</td>\n",
       "      <td>0.01</td>\n",
       "      <td>0.01</td>\n",
       "      <td>1.00</td>\n",
       "    </tr>\n",
       "  </tbody>\n",
       "</table>\n",
       "</div>"
      ],
      "text/plain": [
       "                       PointsFid  Nombre_enfant  Klout  AppMobile  Newsletter  \\\n",
       "PointsFid             1.00       0.03           0.02   0.05       -0.04         \n",
       "Nombre_enfant         0.03       1.00           0.02   -0.03      0.05          \n",
       "Klout                 0.02       0.02           1.00   0.05       -0.03         \n",
       "AppMobile             0.05       -0.03          0.05   1.00       0.03          \n",
       "Newsletter            -0.04      0.05           -0.03  0.03       1.00          \n",
       "AgeClient             -0.02      0.01           0.05   -0.00      0.03          \n",
       "AncienneteClientJours 0.03       0.07           0.04   0.00       0.01          \n",
       "\n",
       "                       AgeClient  AncienneteClientJours  \n",
       "PointsFid             -0.02      0.03                    \n",
       "Nombre_enfant         0.01       0.07                    \n",
       "Klout                 0.05       0.04                    \n",
       "AppMobile             -0.00      0.00                    \n",
       "Newsletter            0.03       0.01                    \n",
       "AgeClient             1.00       0.01                    \n",
       "AncienneteClientJours 0.01       1.00                    "
      ]
     },
     "execution_count": 36,
     "metadata": {},
     "output_type": "execute_result"
    }
   ],
   "source": [
    "df.corr()"
   ]
  },
  {
   "cell_type": "markdown",
   "metadata": {},
   "source": [
    "## 3. AutoML"
   ]
  },
  {
   "cell_type": "markdown",
   "metadata": {},
   "source": [
    "<img src=\"https://github.com/retkowsky/images/blob/master/autoML4.png?raw=true\">"
   ]
  },
  {
   "cell_type": "markdown",
   "metadata": {},
   "source": [
    "> AutoML documentation: https://docs.microsoft.com/en-us/azure/machine-learning/concept-automated-ml"
   ]
  },
  {
   "cell_type": "markdown",
   "metadata": {},
   "source": [
    "### We want to predict this variable:"
   ]
  },
  {
   "cell_type": "code",
   "execution_count": 37,
   "metadata": {},
   "outputs": [],
   "source": [
    "label_column_name = 'Retour'"
   ]
  },
  {
   "cell_type": "markdown",
   "metadata": {},
   "source": [
    "### Let's define the AutoML process"
   ]
  },
  {
   "cell_type": "code",
   "execution_count": 43,
   "metadata": {},
   "outputs": [],
   "source": [
    "automl_settings = {\n",
    "    \"n_cross_validations\": 5,           # Number of cross validations\n",
    "    \"primary_metric\": 'AUC_weighted',   # AutoML quality metric\n",
    "    \"enable_early_stopping\": True,      # Can stop the process if no better model are available\n",
    "    \"max_concurrent_iterations\": 2,     # Number of concurrent iterations\n",
    "    \"iterations\": 10,                   # Number of max iterations\n",
    "    \"experiment_timeout_minutes\" : 15,  # Number of minutes for the autoML process\n",
    "    \"iteration_timeout_minutes\" : 2,    # Number of minutes by iteration\n",
    "    \"verbosity\": logging.INFO,\n",
    "}\n",
    "\n",
    "automl_config = AutoMLConfig(task = 'classification',                # This is an AutoML classification problem\n",
    "                             debug_log = 'automl.log',               # AutoML log file\n",
    "                             training_data = df,                     # This is the data we want to use\n",
    "                             label_column_name = label_column_name,  # This is the column to predict\n",
    "                             **automl_settings\n",
    "                            )"
   ]
  },
  {
   "cell_type": "markdown",
   "metadata": {},
   "source": [
    "### Let's run the AutoML"
   ]
  },
  {
   "cell_type": "code",
   "execution_count": 44,
   "metadata": {},
   "outputs": [
    {
     "name": "stdout",
     "output_type": "stream",
     "text": [
      "Running on local machine\n",
      "Parent Run ID: AutoML_75dcbf87-da30-4631-a5be-67702c814620\n",
      "\n",
      "Current status: DatasetEvaluation. Gathering dataset statistics.\n",
      "Current status: FeaturesGeneration. Generating features for the dataset.\n",
      "Current status: DatasetFeaturization. Beginning to fit featurizers and featurize the dataset.\n",
      "Current status: DatasetFeaturizationCompleted. Completed fit featurizers and featurizing the dataset.\n",
      "Current status: DatasetCrossValidationSplit. Generating individually featurized CV splits.\n",
      "\n",
      "****************************************************************************************************\n",
      "DATA GUARDRAILS: \n",
      "\n",
      "TYPE:         Class balancing detection\n",
      "STATUS:       PASSED\n",
      "DESCRIPTION:  Your inputs were analyzed, and all classes are balanced in your training data.\n",
      "              Learn more about imbalanced data: https://aka.ms/AutomatedMLImbalancedData\n",
      "\n",
      "****************************************************************************************************\n",
      "\n",
      "TYPE:         Missing feature values imputation\n",
      "STATUS:       DONE\n",
      "DESCRIPTION:  If the missing values are expected, let the run complete. Otherwise cancel the current run and use a script to customize the handling of missing feature values that may be more appropriate based on the data type and business requirement.\n",
      "              Learn more about missing value imputation: https://aka.ms/AutomatedMLFeaturization\n",
      "DETAILS:      \n",
      "+---------------------------------+---------------------------------+---------------------------------+\n",
      "|Column name                      |Missing value count              |Imputation type                  |\n",
      "+=================================+=================================+=================================+\n",
      "|AgeClient                        |82                               |mean                             |\n",
      "|AncienneteClientJours            |82                               |mean                             |\n",
      "|AppMobile                        |82                               |mean                             |\n",
      "|Civilite                         |82                               |                                 |\n",
      "|CreationClient                   |82                               |                                 |\n",
      "|Klout                            |82                               |mean                             |\n",
      "|Magasin                          |82                               |                                 |\n",
      "|Newsletter                       |82                               |mean                             |\n",
      "+---------------------------------+---------------------------------+---------------------------------+\n",
      "\n",
      "****************************************************************************************************\n",
      "\n",
      "TYPE:         High cardinality feature detection\n",
      "STATUS:       PASSED\n",
      "DESCRIPTION:  Your inputs were analyzed, and no high cardinality features were detected.\n",
      "              Learn more about high cardinality feature handling: https://aka.ms/AutomatedMLFeaturization\n",
      "\n",
      "****************************************************************************************************\n",
      "Current status: ModelSelection. Beginning model selection.\n",
      "\n",
      "****************************************************************************************************\n",
      "ITERATION: The iteration being evaluated.\n",
      "PIPELINE: A summary description of the pipeline being evaluated.\n",
      "DURATION: Time taken for the current iteration.\n",
      "METRIC: The result of computing score on the fitted pipeline.\n",
      "BEST: The best observed score thus far.\n",
      "****************************************************************************************************\n",
      "\n",
      " ITERATION   PIPELINE                                       DURATION      METRIC      BEST\n",
      "         0   MaxAbsScaler LightGBM                          0:00:38       0.9545    0.9545\n",
      "         1   MaxAbsScaler XGBoostClassifier                 0:00:27       0.9242    0.9545\n",
      "         2   MaxAbsScaler RandomForest                      0:00:28       0.8748    0.9545\n",
      "         3   MaxAbsScaler SGD                               0:00:30       0.7133    0.9545\n",
      "         4   MaxAbsScaler SGD                               0:00:34       0.7590    0.9545\n",
      "         5   MaxAbsScaler ExtremeRandomTrees                0:00:47       0.8927    0.9545\n",
      "         6   MaxAbsScaler ExtremeRandomTrees                0:00:22       0.8286    0.9545\n",
      "         7   MaxAbsScaler SGD                               0:00:29       0.7350    0.9545\n",
      "         8   VotingEnsemble                                 0:00:48       0.9535    0.9545\n",
      "         9   StackEnsemble                                  0:00:42       0.9480    0.9545\n",
      "****************************************************************************************************\n",
      "Current status: BestRunExplainModel. Best run model explanations started\n",
      "Current status: ModelExplanationDataSetSetup. Model explanations data setup completed\n",
      "Current status: PickSurrogateModel. Choosing LightGBM as the surrogate model for explanations\n",
      "Current status: EngineeredFeatureExplanations. Computation of engineered features started\n",
      "Current status: EngineeredFeatureExplanations. Computation of engineered features completed\n",
      "Current status: BestRunExplainModel. Best run model explanations completed\n",
      "****************************************************************************************************\n"
     ]
    }
   ],
   "source": [
    "run = experiment.submit(automl_config, show_output = True)"
   ]
  },
  {
   "cell_type": "code",
   "execution_count": 16,
   "metadata": {},
   "outputs": [
    {
     "data": {
      "text/html": [
       "<table style=\"width:100%\"><tr><th>Experiment</th><th>Id</th><th>Type</th><th>Status</th><th>Details Page</th><th>Docs Page</th></tr><tr><td>AutoMLMarketing</td><td>AutoML_0de558c3-a08d-4c8d-abef-02192ae96848</td><td>automl</td><td>Completed</td><td><a href=\"https://ml.azure.com/experiments/AutoMLMarketing/runs/AutoML_0de558c3-a08d-4c8d-abef-02192ae96848?wsid=/subscriptions/70b8f39e-8863-49f7-b6ba-34a80799550c/resourcegroups/azuremlsynapse-rg/workspaces/azuremlsynapse\" target=\"_blank\" rel=\"noopener\">Link to Azure Machine Learning studio</a></td><td><a href=\"https://docs.microsoft.com/en-us/python/api/overview/azure/ml/intro?view=azure-ml-py\" target=\"_blank\" rel=\"noopener\">Link to Documentation</a></td></tr></table>"
      ],
      "text/plain": [
       "Run(Experiment: AutoMLMarketing,\n",
       "Id: AutoML_0de558c3-a08d-4c8d-abef-02192ae96848,\n",
       "Type: automl,\n",
       "Status: Completed)"
      ]
     },
     "execution_count": 16,
     "metadata": {},
     "output_type": "execute_result"
    }
   ],
   "source": [
    "run"
   ]
  },
  {
   "cell_type": "code",
   "execution_count": 17,
   "metadata": {},
   "outputs": [
    {
     "data": {
      "application/vnd.jupyter.widget-view+json": {
       "model_id": "4e32bb89f96d4fb583addd604c16f7d1",
       "version_major": 2,
       "version_minor": 0
      },
      "text/plain": [
       "_AutoMLWidget(widget_settings={'childWidgetDisplay': 'popup', 'send_telemetry': False, 'log_level': 'INFO', 's…"
      ]
     },
     "metadata": {},
     "output_type": "display_data"
    },
    {
     "data": {
      "application/aml.mini.widget.v1": "{\"status\": \"Completed\", \"workbench_run_details_uri\": \"https://ml.azure.com/experiments/AutoMLMarketing/runs/AutoML_0de558c3-a08d-4c8d-abef-02192ae96848?wsid=/subscriptions/70b8f39e-8863-49f7-b6ba-34a80799550c/resourcegroups/azuremlsynapse-rg/workspaces/azuremlsynapse\", \"run_id\": \"AutoML_0de558c3-a08d-4c8d-abef-02192ae96848\", \"run_properties\": {\"run_id\": \"AutoML_0de558c3-a08d-4c8d-abef-02192ae96848\", \"created_utc\": \"2020-09-03T10:33:52.826498Z\", \"properties\": {\"num_iterations\": \"15\", \"training_type\": \"TrainFull\", \"acquisition_function\": \"EI\", \"primary_metric\": \"AUC_weighted\", \"train_split\": \"0\", \"acquisition_parameter\": \"0\", \"num_cross_validation\": \"5\", \"target\": \"local\", \"AMLSettingsJsonString\": \"{\\\"path\\\":null,\\\"name\\\":\\\"AutoMLMarketing\\\",\\\"subscription_id\\\":\\\"70b8f39e-8863-49f7-b6ba-34a80799550c\\\",\\\"resource_group\\\":\\\"azuremlsynapse-rg\\\",\\\"workspace_name\\\":\\\"azuremlsynapse\\\",\\\"region\\\":\\\"westeurope\\\",\\\"compute_target\\\":\\\"local\\\",\\\"spark_service\\\":null,\\\"azure_service\\\":\\\"Microsoft.AzureNotebookVM\\\",\\\"_local_managed_run_id\\\":null,\\\"many_models\\\":false,\\\"iterations\\\":15,\\\"primary_metric\\\":\\\"AUC_weighted\\\",\\\"task_type\\\":\\\"classification\\\",\\\"data_script\\\":null,\\\"validation_size\\\":0.0,\\\"n_cross_validations\\\":5,\\\"y_min\\\":null,\\\"y_max\\\":null,\\\"num_classes\\\":2,\\\"featurization\\\":\\\"auto\\\",\\\"_ignore_package_version_incompatibilities\\\":false,\\\"is_timeseries\\\":false,\\\"max_cores_per_iteration\\\":1,\\\"max_concurrent_iterations\\\":2,\\\"iteration_timeout_minutes\\\":2,\\\"mem_in_mb\\\":null,\\\"enforce_time_on_windows\\\":false,\\\"experiment_timeout_minutes\\\":15,\\\"experiment_exit_score\\\":null,\\\"whitelist_models\\\":null,\\\"blacklist_algos\\\":[\\\"TensorFlowLinearClassifier\\\"],\\\"supported_models\\\":[\\\"TensorFlowDNN\\\",\\\"BernoulliNaiveBayes\\\",\\\"LogisticRegression\\\",\\\"LightGBM\\\",\\\"DecisionTree\\\",\\\"RandomForest\\\",\\\"XGBoostClassifier\\\",\\\"GradientBoosting\\\",\\\"LinearSVM\\\",\\\"KNN\\\",\\\"SGD\\\",\\\"TensorFlowLinearClassifier\\\",\\\"SVM\\\",\\\"MultinomialNaiveBayes\\\",\\\"AveragedPerceptronClassifier\\\",\\\"ExtremeRandomTrees\\\"],\\\"auto_blacklist\\\":true,\\\"blacklist_samples_reached\\\":false,\\\"exclude_nan_labels\\\":true,\\\"verbosity\\\":20,\\\"_debug_log\\\":\\\"automl.log\\\",\\\"show_warnings\\\":false,\\\"model_explainability\\\":true,\\\"service_url\\\":null,\\\"sdk_url\\\":null,\\\"sdk_packages\\\":null,\\\"enable_onnx_compatible_models\\\":false,\\\"enable_split_onnx_featurizer_estimator_models\\\":false,\\\"vm_type\\\":null,\\\"telemetry_verbosity\\\":20,\\\"send_telemetry\\\":true,\\\"enable_dnn\\\":false,\\\"force_text_dnn\\\":false,\\\"enable_feature_sweeping\\\":true,\\\"enable_early_stopping\\\":true,\\\"early_stopping_n_iters\\\":10,\\\"metrics\\\":null,\\\"enable_ensembling\\\":true,\\\"enable_stack_ensembling\\\":true,\\\"ensemble_iterations\\\":15,\\\"enable_tf\\\":false,\\\"enable_subsampling\\\":false,\\\"subsample_seed\\\":null,\\\"enable_nimbusml\\\":false,\\\"enable_streaming\\\":false,\\\"force_streaming\\\":false,\\\"track_child_runs\\\":true,\\\"label_column_name\\\":\\\"Retour\\\",\\\"weight_column_name\\\":null,\\\"cv_split_column_names\\\":null,\\\"enable_local_managed\\\":false,\\\"cost_mode\\\":1,\\\"lag_length\\\":0,\\\"metric_operation\\\":\\\"maximize\\\",\\\"preprocess\\\":true,\\\"scenario\\\":\\\"SDK-Compatible\\\"}\", \"DataPrepJsonString\": null, \"EnableSubsampling\": \"False\", \"runTemplate\": \"AutoML\", \"azureml.runsource\": \"automl\", \"display_task_type\": \"classification\", \"dependencies_versions\": \"{\\\"azureml-widgets\\\": \\\"1.13.0\\\", \\\"azureml-train\\\": \\\"1.13.0\\\", \\\"azureml-train-restclients-hyperdrive\\\": \\\"1.13.0\\\", \\\"azureml-train-core\\\": \\\"1.13.0\\\", \\\"azureml-train-automl\\\": \\\"1.13.0\\\", \\\"azureml-train-automl-runtime\\\": \\\"1.13.0\\\", \\\"azureml-train-automl-client\\\": \\\"1.13.0\\\", \\\"azureml-tensorboard\\\": \\\"1.13.0\\\", \\\"azureml-telemetry\\\": \\\"1.13.0\\\", \\\"azureml-sdk\\\": \\\"1.13.0\\\", \\\"azureml-samples\\\": \\\"0+unknown\\\", \\\"azureml-pipeline\\\": \\\"1.13.0\\\", \\\"azureml-pipeline-steps\\\": \\\"1.13.0\\\", \\\"azureml-pipeline-core\\\": \\\"1.13.0\\\", \\\"azureml-opendatasets\\\": \\\"1.9.0\\\", \\\"azureml-monitoring\\\": \\\"0.1.0a18\\\", \\\"azureml-model-management-sdk\\\": \\\"1.0.1b6.post1\\\", \\\"azureml-mlflow\\\": \\\"1.9.0\\\", \\\"azureml-interpret\\\": \\\"1.13.0\\\", \\\"azureml-explain-model\\\": \\\"1.13.0\\\", \\\"azureml-defaults\\\": \\\"1.13.0\\\", \\\"azureml-dataset-runtime\\\": \\\"1.13.0\\\", \\\"azureml-dataprep\\\": \\\"2.0.2\\\", \\\"azureml-dataprep-native\\\": \\\"14.2.1\\\", \\\"azureml-datadrift\\\": \\\"1.9.0\\\", \\\"azureml-core\\\": \\\"1.13.0\\\", \\\"azureml-contrib-services\\\": \\\"1.13.0\\\", \\\"azureml-contrib-server\\\": \\\"1.13.0\\\", \\\"azureml-contrib-reinforcementlearning\\\": \\\"1.9.0\\\", \\\"azureml-contrib-pipeline-steps\\\": \\\"1.13.0\\\", \\\"azureml-contrib-notebook\\\": \\\"1.13.0\\\", \\\"azureml-contrib-interpret\\\": \\\"1.9.0\\\", \\\"azureml-contrib-gbdt\\\": \\\"1.9.0\\\", \\\"azureml-contrib-fairness\\\": \\\"1.9.0\\\", \\\"azureml-contrib-dataset\\\": \\\"1.9.0\\\", \\\"azureml-cli-common\\\": \\\"1.9.0\\\", \\\"azureml-automl-runtime\\\": \\\"1.13.0\\\", \\\"azureml-automl-core\\\": \\\"1.13.0\\\", \\\"azureml-accel-models\\\": \\\"1.9.0\\\"}\", \"ClientSdkVersion\": \"1.13.0\", \"ClientType\": \"SDK\", \"environment_cpu_name\": \"AzureML-AutoML\", \"environment_cpu_version\": \"32\", \"environment_gpu_name\": \"AzureML-AutoML-GPU\", \"environment_gpu_version\": \"21\", \"root_attribution\": \"automl\", \"attribution\": \"AutoML\", \"CancelUri\": \"https://westeurope.experiments.azureml.net/jasmine/v1.0/subscriptions/70b8f39e-8863-49f7-b6ba-34a80799550c/resourceGroups/azuremlsynapse-rg/providers/Microsoft.MachineLearningServices/workspaces/azuremlsynapse/experiment/AutoMLMarketing/cancel/AutoML_0de558c3-a08d-4c8d-abef-02192ae96848\", \"Orchestrator\": \"AutoML\", \"_azureml.ComputeTargetType\": \"local\", \"ProblemInfoJsonString\": \"{\\\"dataset_num_categorical\\\": 0, \\\"is_sparse\\\": true, \\\"subsampling\\\": false, \\\"dataset_classes\\\": 2, \\\"dataset_features\\\": 44, \\\"dataset_samples\\\": 900, \\\"single_frequency_class_detected\\\": false}\", \"feature_skus\": \"automatedml_sdk_guardrails\"}, \"tags\": {\"model_explain_run\": \"best_run\", \"azureml.automlComponent\": \"AutoML\", \"model_explain_best_run_child_id\": \"AutoML_0de558c3-a08d-4c8d-abef-02192ae96848_13\", \"best_score\": \"0.9546916508256732\", \"best_pipeline\": \"VotingEnsemble\", \"automl_best_child_run_id\": \"AutoML_0de558c3-a08d-4c8d-abef-02192ae96848_13\"}, \"end_time_utc\": \"2020-09-03T10:47:45.53015Z\", \"status\": \"Completed\", \"log_files\": {}, \"log_groups\": [], \"run_duration\": \"0:13:52\"}, \"child_runs\": [{\"run_id\": \"AutoML_0de558c3-a08d-4c8d-abef-02192ae96848_0\", \"run_number\": 20, \"metric\": null, \"status\": \"Completed\", \"run_type\": null, \"training_percent\": \"100\", \"start_time\": \"2020-09-03T10:34:16.606968Z\", \"end_time\": \"2020-09-03T10:34:58.365497Z\", \"created_time\": \"2020-09-03T10:34:14.298715Z\", \"created_time_dt\": \"2020-09-03T10:34:14.298715Z\", \"duration\": \"0:00:44\", \"iteration\": \"0\", \"goal\": \"AUC_weighted_max\", \"run_name\": \"MaxAbsScaler, LightGBM\", \"run_properties\": \"copy=True\", \"primary_metric\": 0.95449538, \"best_metric\": 0.95449538}, {\"run_id\": \"AutoML_0de558c3-a08d-4c8d-abef-02192ae96848_1\", \"run_number\": 21, \"metric\": null, \"status\": \"Completed\", \"run_type\": null, \"training_percent\": \"100\", \"start_time\": \"2020-09-03T10:35:02.429935Z\", \"end_time\": \"2020-09-03T10:35:29.489737Z\", \"created_time\": \"2020-09-03T10:35:02.282288Z\", \"created_time_dt\": \"2020-09-03T10:35:02.282288Z\", \"duration\": \"0:00:27\", \"iteration\": \"1\", \"goal\": \"AUC_weighted_max\", \"run_name\": \"MaxAbsScaler, XGBoostClassifier\", \"run_properties\": \"copy=True\", \"primary_metric\": 0.92416571, \"best_metric\": 0.95449538}, {\"run_id\": \"AutoML_0de558c3-a08d-4c8d-abef-02192ae96848_2\", \"run_number\": 22, \"metric\": null, \"status\": \"Completed\", \"run_type\": null, \"training_percent\": \"100\", \"start_time\": \"2020-09-03T10:35:32.853255Z\", \"end_time\": \"2020-09-03T10:36:04.802453Z\", \"created_time\": \"2020-09-03T10:35:31.505182Z\", \"created_time_dt\": \"2020-09-03T10:35:31.505182Z\", \"duration\": \"0:00:33\", \"iteration\": \"2\", \"goal\": \"AUC_weighted_max\", \"run_name\": \"MaxAbsScaler, RandomForest\", \"run_properties\": \"copy=True\", \"primary_metric\": 0.87565639, \"best_metric\": 0.95449538}, {\"run_id\": \"AutoML_0de558c3-a08d-4c8d-abef-02192ae96848_3\", \"run_number\": 23, \"metric\": null, \"status\": \"Completed\", \"run_type\": null, \"training_percent\": \"100\", \"start_time\": \"2020-09-03T10:36:11.059167Z\", \"end_time\": \"2020-09-03T10:36:36.339653Z\", \"created_time\": \"2020-09-03T10:36:07.544271Z\", \"created_time_dt\": \"2020-09-03T10:36:07.544271Z\", \"duration\": \"0:00:28\", \"iteration\": \"3\", \"goal\": \"AUC_weighted_max\", \"run_name\": \"MaxAbsScaler, SGD\", \"run_properties\": \"copy=True\", \"primary_metric\": 0.71192125, \"best_metric\": 0.95449538}, {\"run_id\": \"AutoML_0de558c3-a08d-4c8d-abef-02192ae96848_4\", \"run_number\": 24, \"metric\": null, \"status\": \"Completed\", \"run_type\": null, \"training_percent\": \"100\", \"start_time\": \"2020-09-03T10:36:44.789904Z\", \"end_time\": \"2020-09-03T10:37:09.389443Z\", \"created_time\": \"2020-09-03T10:36:42.488409Z\", \"created_time_dt\": \"2020-09-03T10:36:42.488409Z\", \"duration\": \"0:00:26\", \"iteration\": \"4\", \"goal\": \"AUC_weighted_max\", \"run_name\": \"MaxAbsScaler, SGD\", \"run_properties\": \"copy=True\", \"primary_metric\": 0.75574565, \"best_metric\": 0.95449538}, {\"run_id\": \"AutoML_0de558c3-a08d-4c8d-abef-02192ae96848_5\", \"run_number\": 25, \"metric\": null, \"status\": \"Completed\", \"run_type\": null, \"training_percent\": \"100\", \"start_time\": \"2020-09-03T10:37:18.834446Z\", \"end_time\": \"2020-09-03T10:37:56.686597Z\", \"created_time\": \"2020-09-03T10:37:18.417565Z\", \"created_time_dt\": \"2020-09-03T10:37:18.417565Z\", \"duration\": \"0:00:38\", \"iteration\": \"5\", \"goal\": \"AUC_weighted_max\", \"run_name\": \"MaxAbsScaler, ExtremeRandomTrees\", \"run_properties\": \"copy=True\", \"primary_metric\": 0.88898228, \"best_metric\": 0.95449538}, {\"run_id\": \"AutoML_0de558c3-a08d-4c8d-abef-02192ae96848_6\", \"run_number\": 26, \"metric\": null, \"status\": \"Completed\", \"run_type\": null, \"training_percent\": \"100\", \"start_time\": \"2020-09-03T10:38:04.457011Z\", \"end_time\": \"2020-09-03T10:38:43.850375Z\", \"created_time\": \"2020-09-03T10:38:02.856045Z\", \"created_time_dt\": \"2020-09-03T10:38:02.856045Z\", \"duration\": \"0:00:40\", \"iteration\": \"6\", \"goal\": \"AUC_weighted_max\", \"run_name\": \"MaxAbsScaler, ExtremeRandomTrees\", \"run_properties\": \"copy=True\", \"primary_metric\": 0.84097395, \"best_metric\": 0.95449538}, {\"run_id\": \"AutoML_0de558c3-a08d-4c8d-abef-02192ae96848_7\", \"run_number\": 27, \"metric\": null, \"status\": \"Completed\", \"run_type\": null, \"training_percent\": \"100\", \"start_time\": \"2020-09-03T10:38:47.040926Z\", \"end_time\": \"2020-09-03T10:39:29.822158Z\", \"created_time\": \"2020-09-03T10:38:45.622622Z\", \"created_time_dt\": \"2020-09-03T10:38:45.622622Z\", \"duration\": \"0:00:44\", \"iteration\": \"7\", \"goal\": \"AUC_weighted_max\", \"run_name\": \"MaxAbsScaler, SGD\", \"run_properties\": \"copy=True\", \"primary_metric\": 0.74199118, \"best_metric\": 0.95449538}, {\"run_id\": \"AutoML_0de558c3-a08d-4c8d-abef-02192ae96848_8\", \"run_number\": 28, \"metric\": null, \"status\": \"Completed\", \"run_type\": null, \"training_percent\": \"100\", \"start_time\": \"2020-09-03T10:39:33.183151Z\", \"end_time\": \"2020-09-03T10:40:17.99511Z\", \"created_time\": \"2020-09-03T10:39:32.335982Z\", \"created_time_dt\": \"2020-09-03T10:39:32.335982Z\", \"duration\": \"0:00:45\", \"iteration\": \"8\", \"goal\": \"AUC_weighted_max\", \"run_name\": \"MaxAbsScaler, RandomForest\", \"run_properties\": \"copy=True\", \"primary_metric\": 0.84910676, \"best_metric\": 0.95449538}, {\"run_id\": \"AutoML_0de558c3-a08d-4c8d-abef-02192ae96848_9\", \"run_number\": 29, \"metric\": null, \"status\": \"Completed\", \"run_type\": null, \"training_percent\": \"100\", \"start_time\": \"2020-09-03T10:40:24.705371Z\", \"end_time\": \"2020-09-03T10:41:04.88706Z\", \"created_time\": \"2020-09-03T10:40:21.788139Z\", \"created_time_dt\": \"2020-09-03T10:40:21.788139Z\", \"duration\": \"0:00:43\", \"iteration\": \"9\", \"goal\": \"AUC_weighted_max\", \"run_name\": \"MaxAbsScaler, SGD\", \"run_properties\": \"copy=True\", \"primary_metric\": 0.74757405, \"best_metric\": 0.95449538}, {\"run_id\": \"AutoML_0de558c3-a08d-4c8d-abef-02192ae96848_10\", \"run_number\": 30, \"metric\": null, \"status\": \"Completed\", \"run_type\": null, \"training_percent\": \"100\", \"start_time\": \"2020-09-03T10:41:11.570768Z\", \"end_time\": \"2020-09-03T10:41:43.468336Z\", \"created_time\": \"2020-09-03T10:41:09.368299Z\", \"created_time_dt\": \"2020-09-03T10:41:09.368299Z\", \"duration\": \"0:00:34\", \"iteration\": \"10\", \"goal\": \"AUC_weighted_max\", \"run_name\": \"MaxAbsScaler, RandomForest\", \"run_properties\": \"copy=True\", \"primary_metric\": 0.83897835, \"best_metric\": 0.95449538}, {\"run_id\": \"AutoML_0de558c3-a08d-4c8d-abef-02192ae96848_11\", \"run_number\": 31, \"metric\": null, \"status\": \"Completed\", \"run_type\": null, \"training_percent\": \"100\", \"start_time\": \"2020-09-03T10:41:46.651441Z\", \"end_time\": \"2020-09-03T10:42:23.916635Z\", \"created_time\": \"2020-09-03T10:41:45.459173Z\", \"created_time_dt\": \"2020-09-03T10:41:45.459173Z\", \"duration\": \"0:00:38\", \"iteration\": \"11\", \"goal\": \"AUC_weighted_max\", \"run_name\": \"MaxAbsScaler, SGD\", \"run_properties\": \"copy=True\", \"primary_metric\": 0.73880275, \"best_metric\": 0.95449538}, {\"run_id\": \"AutoML_0de558c3-a08d-4c8d-abef-02192ae96848_12\", \"run_number\": 32, \"metric\": null, \"status\": \"Completed\", \"run_type\": null, \"training_percent\": \"100\", \"start_time\": \"2020-09-03T10:42:31.476926Z\", \"end_time\": \"2020-09-03T10:43:16.253218Z\", \"created_time\": \"2020-09-03T10:42:30.144174Z\", \"created_time_dt\": \"2020-09-03T10:42:30.144174Z\", \"duration\": \"0:00:46\", \"iteration\": \"12\", \"goal\": \"AUC_weighted_max\", \"run_name\": \"MaxAbsScaler, SGD\", \"run_properties\": \"copy=True\", \"primary_metric\": 0.71712688, \"best_metric\": 0.95449538}, {\"run_id\": \"AutoML_0de558c3-a08d-4c8d-abef-02192ae96848_13\", \"run_number\": 33, \"metric\": null, \"status\": \"Completed\", \"run_type\": null, \"training_percent\": \"100\", \"start_time\": \"2020-09-03T10:43:18.609822Z\", \"end_time\": \"2020-09-03T10:44:22.134756Z\", \"created_time\": \"2020-09-03T10:43:18.48274Z\", \"created_time_dt\": \"2020-09-03T10:43:18.48274Z\", \"duration\": \"0:01:03\", \"iteration\": \"13\", \"goal\": \"AUC_weighted_max\", \"run_name\": \"VotingEnsemble\", \"run_properties\": \"classification_labels=None,\\n               estimators=[('0', Pipeline(memory=None,\\n     steps=[('maxabsscaler', MaxAbsScaler(copy=True\", \"primary_metric\": 0.95469165, \"best_metric\": 0.95469165}, {\"run_id\": \"AutoML_0de558c3-a08d-4c8d-abef-02192ae96848_14\", \"run_number\": 34, \"metric\": null, \"status\": \"Completed\", \"run_type\": null, \"training_percent\": \"100\", \"start_time\": \"2020-09-03T10:44:24.071415Z\", \"end_time\": \"2020-09-03T10:45:37.489712Z\", \"created_time\": \"2020-09-03T10:44:23.667958Z\", \"created_time_dt\": \"2020-09-03T10:44:23.667958Z\", \"duration\": \"0:01:13\", \"iteration\": \"14\", \"goal\": \"AUC_weighted_max\", \"run_name\": \"StackEnsemble\", \"run_properties\": \"base_learners=[('0', Pipeline(memory=None,\\n     steps=[('maxabsscaler', MaxAbsScaler(copy=True\", \"primary_metric\": 0.94755123, \"best_metric\": 0.95469165}], \"children_metrics\": {\"categories\": [0], \"series\": {\"balanced_accuracy\": [{\"categories\": [\"0\", \"1\", \"2\", \"3\", \"4\", \"5\", \"6\", \"7\", \"8\", \"9\", \"10\", \"11\", \"12\", \"13\", \"14\"], \"mode\": \"markers\", \"name\": \"balanced_accuracy\", \"stepped\": false, \"type\": \"scatter\", \"data\": [0.8959959594216371, 0.8826263339919989, 0.8065090348035993, 0.6514981402977009, 0.6632224307145125, 0.8194780201571243, 0.7445715441546991, 0.6793864551727786, 0.7826996879537387, 0.6750326113203476, 0.780680197685796, 0.6630948357034484, 0.6628600190025095, 0.8971070705327483, 0.8965353956189681]}, {\"categories\": [\"0\", \"1\", \"2\", \"3\", \"4\", \"5\", \"6\", \"7\", \"8\", \"9\", \"10\", \"11\", \"12\", \"13\", \"14\"], \"mode\": \"lines\", \"name\": \"balanced_accuracy_max\", \"stepped\": true, \"type\": \"scatter\", \"data\": [0.8959959594216371, 0.8959959594216371, 0.8959959594216371, 0.8959959594216371, 0.8959959594216371, 0.8959959594216371, 0.8959959594216371, 0.8959959594216371, 0.8959959594216371, 0.8959959594216371, 0.8959959594216371, 0.8959959594216371, 0.8959959594216371, 0.8971070705327483, 0.8971070705327483]}], \"norm_macro_recall\": [{\"categories\": [\"0\", \"1\", \"2\", \"3\", \"4\", \"5\", \"6\", \"7\", \"8\", \"9\", \"10\", \"11\", \"12\", \"13\", \"14\"], \"mode\": \"markers\", \"name\": \"norm_macro_recall\", \"stepped\": false, \"type\": \"scatter\", \"data\": [0.7919919188432745, 0.7652526679839975, 0.6130180696071987, 0.302996280595402, 0.3264448614290249, 0.6389560403142486, 0.4891430883093982, 0.35877291034555736, 0.5653993759074772, 0.3500652226406954, 0.5613603953715922, 0.32618967140689675, 0.3257200380050189, 0.7942141410654966, 0.7930707912379362]}, {\"categories\": [\"0\", \"1\", \"2\", \"3\", \"4\", \"5\", \"6\", \"7\", \"8\", \"9\", \"10\", \"11\", \"12\", \"13\", \"14\"], \"mode\": \"lines\", \"name\": \"norm_macro_recall_max\", \"stepped\": true, \"type\": \"scatter\", \"data\": [0.7919919188432745, 0.7919919188432745, 0.7919919188432745, 0.7919919188432745, 0.7919919188432745, 0.7919919188432745, 0.7919919188432745, 0.7919919188432745, 0.7919919188432745, 0.7919919188432745, 0.7919919188432745, 0.7919919188432745, 0.7919919188432745, 0.7942141410654966, 0.7942141410654966]}], \"f1_score_micro\": [{\"categories\": [\"0\", \"1\", \"2\", \"3\", \"4\", \"5\", \"6\", \"7\", \"8\", \"9\", \"10\", \"11\", \"12\", \"13\", \"14\"], \"mode\": \"markers\", \"name\": \"f1_score_micro\", \"stepped\": false, \"type\": \"scatter\", \"data\": [0.9000000000000001, 0.8855555555555557, 0.8133333333333332, 0.6544444444444444, 0.6677777777777778, 0.8233333333333333, 0.75, 0.6833333333333333, 0.7877777777777778, 0.6755555555555555, 0.7855555555555556, 0.6722222222222223, 0.6622222222222222, 0.9011111111111113, 0.9000000000000001]}, {\"categories\": [\"0\", \"1\", \"2\", \"3\", \"4\", \"5\", \"6\", \"7\", \"8\", \"9\", \"10\", \"11\", \"12\", \"13\", \"14\"], \"mode\": \"lines\", \"name\": \"f1_score_micro_max\", \"stepped\": true, \"type\": \"scatter\", \"data\": [0.9000000000000001, 0.9000000000000001, 0.9000000000000001, 0.9000000000000001, 0.9000000000000001, 0.9000000000000001, 0.9000000000000001, 0.9000000000000001, 0.9000000000000001, 0.9000000000000001, 0.9000000000000001, 0.9000000000000001, 0.9000000000000001, 0.9011111111111113, 0.9011111111111113]}], \"AUC_micro\": [{\"categories\": [\"0\", \"1\", \"2\", \"3\", \"4\", \"5\", \"6\", \"7\", \"8\", \"9\", \"10\", \"11\", \"12\", \"13\", \"14\"], \"mode\": \"markers\", \"name\": \"AUC_micro\", \"stepped\": false, \"type\": \"scatter\", \"data\": [0.9566790123456791, 0.9281913580246913, 0.8762592592592592, 0.7164259259259259, 0.7339320987654322, 0.8910864197530864, 0.8396975308641975, 0.7420802469135802, 0.8550432098765433, 0.7461111111111111, 0.8407407407407408, 0.7416358024691357, 0.711962962962963, 0.9564506172839506, 0.9513456790123456]}, {\"categories\": [\"0\", \"1\", \"2\", \"3\", \"4\", \"5\", \"6\", \"7\", \"8\", \"9\", \"10\", \"11\", \"12\", \"13\", \"14\"], \"mode\": \"lines\", \"name\": \"AUC_micro_max\", \"stepped\": true, \"type\": \"scatter\", \"data\": [0.9566790123456791, 0.9566790123456791, 0.9566790123456791, 0.9566790123456791, 0.9566790123456791, 0.9566790123456791, 0.9566790123456791, 0.9566790123456791, 0.9566790123456791, 0.9566790123456791, 0.9566790123456791, 0.9566790123456791, 0.9566790123456791, 0.9566790123456791, 0.9566790123456791]}], \"average_precision_score_micro\": [{\"categories\": [\"0\", \"1\", \"2\", \"3\", \"4\", \"5\", \"6\", \"7\", \"8\", \"9\", \"10\", \"11\", \"12\", \"13\", \"14\"], \"mode\": \"markers\", \"name\": \"average_precision_score_micro\", \"stepped\": false, \"type\": \"scatter\", \"data\": [0.9557387736196119, 0.9242617784142813, 0.872507749225662, 0.707826661708632, 0.7279191210848084, 0.8897101998954391, 0.8376305554780441, 0.7345881388025485, 0.8499061290082526, 0.7424646025090592, 0.8237962746216846, 0.738112783051011, 0.7042567908364388, 0.9551939342274629, 0.9505079061783187]}, {\"categories\": [\"0\", \"1\", \"2\", \"3\", \"4\", \"5\", \"6\", \"7\", \"8\", \"9\", \"10\", \"11\", \"12\", \"13\", \"14\"], \"mode\": \"lines\", \"name\": \"average_precision_score_micro_max\", \"stepped\": true, \"type\": \"scatter\", \"data\": [0.9557387736196119, 0.9557387736196119, 0.9557387736196119, 0.9557387736196119, 0.9557387736196119, 0.9557387736196119, 0.9557387736196119, 0.9557387736196119, 0.9557387736196119, 0.9557387736196119, 0.9557387736196119, 0.9557387736196119, 0.9557387736196119, 0.9557387736196119, 0.9557387736196119]}], \"precision_score_weighted\": [{\"categories\": [\"0\", \"1\", \"2\", \"3\", \"4\", \"5\", \"6\", \"7\", \"8\", \"9\", \"10\", \"11\", \"12\", \"13\", \"14\"], \"mode\": \"markers\", \"name\": \"precision_score_weighted\", \"stepped\": false, \"type\": \"scatter\", \"data\": [0.9023433110736171, 0.8875257467247583, 0.827878849867778, 0.6589071812256266, 0.6882507788583524, 0.825959382158364, 0.7519876516855162, 0.6892223999746416, 0.7948730018676085, 0.6815201196113981, 0.7958475316522624, 0.6755203822063687, 0.6737341217165482, 0.9033759666421599, 0.9018707219002031]}, {\"categories\": [\"0\", \"1\", \"2\", \"3\", \"4\", \"5\", \"6\", \"7\", \"8\", \"9\", \"10\", \"11\", \"12\", \"13\", \"14\"], \"mode\": \"lines\", \"name\": \"precision_score_weighted_max\", \"stepped\": true, \"type\": \"scatter\", \"data\": [0.9023433110736171, 0.9023433110736171, 0.9023433110736171, 0.9023433110736171, 0.9023433110736171, 0.9023433110736171, 0.9023433110736171, 0.9023433110736171, 0.9023433110736171, 0.9023433110736171, 0.9023433110736171, 0.9023433110736171, 0.9023433110736171, 0.9033759666421599, 0.9033759666421599]}], \"precision_score_macro\": [{\"categories\": [\"0\", \"1\", \"2\", \"3\", \"4\", \"5\", \"6\", \"7\", \"8\", \"9\", \"10\", \"11\", \"12\", \"13\", \"14\"], \"mode\": \"markers\", \"name\": \"precision_score_macro\", \"stepped\": false, \"type\": \"scatter\", \"data\": [0.9033361776395832, 0.8869722801741957, 0.8286787245126461, 0.6528633393975011, 0.6838722652240308, 0.824239375172434, 0.7486501711673947, 0.684301977497498, 0.7931542413435249, 0.6750032904924307, 0.7936405572896303, 0.6719152410426334, 0.6666615561940847, 0.904368833208126, 0.9023209349355705]}, {\"categories\": [\"0\", \"1\", \"2\", \"3\", \"4\", \"5\", \"6\", \"7\", \"8\", \"9\", \"10\", \"11\", \"12\", \"13\", \"14\"], \"mode\": \"lines\", \"name\": \"precision_score_macro_max\", \"stepped\": true, \"type\": \"scatter\", \"data\": [0.9033361776395832, 0.9033361776395832, 0.9033361776395832, 0.9033361776395832, 0.9033361776395832, 0.9033361776395832, 0.9033361776395832, 0.9033361776395832, 0.9033361776395832, 0.9033361776395832, 0.9033361776395832, 0.9033361776395832, 0.9033361776395832, 0.904368833208126, 0.904368833208126]}], \"AUC_macro\": [{\"categories\": [\"0\", \"1\", \"2\", \"3\", \"4\", \"5\", \"6\", \"7\", \"8\", \"9\", \"10\", \"11\", \"12\", \"13\", \"14\"], \"mode\": \"markers\", \"name\": \"AUC_macro\", \"stepped\": false, \"type\": \"scatter\", \"data\": [0.9544953828630774, 0.9241657133030067, 0.8756563925712566, 0.7119212533784299, 0.7557456483098058, 0.8889822794893905, 0.8409739513641499, 0.7419911754821135, 0.8491067631926696, 0.7475740456499438, 0.8389783520108377, 0.7388027501968996, 0.7171268767042733, 0.9546916508256732, 0.9475512270910273]}, {\"categories\": [\"0\", \"1\", \"2\", \"3\", \"4\", \"5\", \"6\", \"7\", \"8\", \"9\", \"10\", \"11\", \"12\", \"13\", \"14\"], \"mode\": \"lines\", \"name\": \"AUC_macro_max\", \"stepped\": true, \"type\": \"scatter\", \"data\": [0.9544953828630774, 0.9544953828630774, 0.9544953828630774, 0.9544953828630774, 0.9544953828630774, 0.9544953828630774, 0.9544953828630774, 0.9544953828630774, 0.9544953828630774, 0.9544953828630774, 0.9544953828630774, 0.9544953828630774, 0.9544953828630774, 0.9546916508256732, 0.9546916508256732]}], \"f1_score_weighted\": [{\"categories\": [\"0\", \"1\", \"2\", \"3\", \"4\", \"5\", \"6\", \"7\", \"8\", \"9\", \"10\", \"11\", \"12\", \"13\", \"14\"], \"mode\": \"markers\", \"name\": \"f1_score_weighted\", \"stepped\": false, \"type\": \"scatter\", \"data\": [0.8995292072006347, 0.8851921991212285, 0.8099836129636566, 0.6538238494433454, 0.6591581520360091, 0.8227233896521099, 0.7488548620570745, 0.6816941539782665, 0.7857371622953166, 0.6757145750644831, 0.7831649819559624, 0.6679068864417638, 0.6602738837922557, 0.9006485931026293, 0.8996338002866263]}, {\"categories\": [\"0\", \"1\", \"2\", \"3\", \"4\", \"5\", \"6\", \"7\", \"8\", \"9\", \"10\", \"11\", \"12\", \"13\", \"14\"], \"mode\": \"lines\", \"name\": \"f1_score_weighted_max\", \"stepped\": true, \"type\": \"scatter\", \"data\": [0.8995292072006347, 0.8995292072006347, 0.8995292072006347, 0.8995292072006347, 0.8995292072006347, 0.8995292072006347, 0.8995292072006347, 0.8995292072006347, 0.8995292072006347, 0.8995292072006347, 0.8995292072006347, 0.8995292072006347, 0.8995292072006347, 0.9006485931026293, 0.9006485931026293]}], \"weighted_accuracy\": [{\"categories\": [\"0\", \"1\", \"2\", \"3\", \"4\", \"5\", \"6\", \"7\", \"8\", \"9\", \"10\", \"11\", \"12\", \"13\", \"14\"], \"mode\": \"markers\", \"name\": \"weighted_accuracy\", \"stepped\": false, \"type\": \"scatter\", \"data\": [0.9038109174599521, 0.8883283517081015, 0.8197272775450515, 0.6571655763390456, 0.6719596778819572, 0.8269689329090273, 0.7550004632163848, 0.6869179876279624, 0.7925635011745152, 0.6760319364364045, 0.7900707861264475, 0.6806478282381782, 0.6614321196273323, 0.9049220285710632, 0.90330246523501]}, {\"categories\": [\"0\", \"1\", \"2\", \"3\", \"4\", \"5\", \"6\", \"7\", \"8\", \"9\", \"10\", \"11\", \"12\", \"13\", \"14\"], \"mode\": \"lines\", \"name\": \"weighted_accuracy_max\", \"stepped\": true, \"type\": \"scatter\", \"data\": [0.9038109174599521, 0.9038109174599521, 0.9038109174599521, 0.9038109174599521, 0.9038109174599521, 0.9038109174599521, 0.9038109174599521, 0.9038109174599521, 0.9038109174599521, 0.9038109174599521, 0.9038109174599521, 0.9038109174599521, 0.9038109174599521, 0.9049220285710632, 0.9049220285710632]}], \"AUC_weighted\": [{\"categories\": [\"0\", \"1\", \"2\", \"3\", \"4\", \"5\", \"6\", \"7\", \"8\", \"9\", \"10\", \"11\", \"12\", \"13\", \"14\"], \"mode\": \"markers\", \"name\": \"AUC_weighted\", \"stepped\": false, \"type\": \"scatter\", \"data\": [0.9544953828630774, 0.9241657133030067, 0.8756563925712566, 0.7119212533784298, 0.7557456483098057, 0.8889822794893906, 0.8409739513641499, 0.7419911754821134, 0.8491067631926696, 0.7475740456499438, 0.8389783520108377, 0.7388027501968996, 0.7171268767042733, 0.9546916508256732, 0.9475512270910273]}, {\"categories\": [\"0\", \"1\", \"2\", \"3\", \"4\", \"5\", \"6\", \"7\", \"8\", \"9\", \"10\", \"11\", \"12\", \"13\", \"14\"], \"mode\": \"lines\", \"name\": \"AUC_weighted_max\", \"stepped\": true, \"type\": \"scatter\", \"data\": [0.9544953828630774, 0.9544953828630774, 0.9544953828630774, 0.9544953828630774, 0.9544953828630774, 0.9544953828630774, 0.9544953828630774, 0.9544953828630774, 0.9544953828630774, 0.9544953828630774, 0.9544953828630774, 0.9544953828630774, 0.9544953828630774, 0.9546916508256732, 0.9546916508256732]}], \"recall_score_macro\": [{\"categories\": [\"0\", \"1\", \"2\", \"3\", \"4\", \"5\", \"6\", \"7\", \"8\", \"9\", \"10\", \"11\", \"12\", \"13\", \"14\"], \"mode\": \"markers\", \"name\": \"recall_score_macro\", \"stepped\": false, \"type\": \"scatter\", \"data\": [0.8959959594216371, 0.8826263339919989, 0.8065090348035993, 0.6514981402977009, 0.6632224307145125, 0.8194780201571243, 0.7445715441546991, 0.6793864551727786, 0.7826996879537387, 0.6750326113203476, 0.780680197685796, 0.6630948357034484, 0.6628600190025095, 0.8971070705327483, 0.8965353956189681]}, {\"categories\": [\"0\", \"1\", \"2\", \"3\", \"4\", \"5\", \"6\", \"7\", \"8\", \"9\", \"10\", \"11\", \"12\", \"13\", \"14\"], \"mode\": \"lines\", \"name\": \"recall_score_macro_max\", \"stepped\": true, \"type\": \"scatter\", \"data\": [0.8959959594216371, 0.8959959594216371, 0.8959959594216371, 0.8959959594216371, 0.8959959594216371, 0.8959959594216371, 0.8959959594216371, 0.8959959594216371, 0.8959959594216371, 0.8959959594216371, 0.8959959594216371, 0.8959959594216371, 0.8959959594216371, 0.8971070705327483, 0.8971070705327483]}], \"average_precision_score_macro\": [{\"categories\": [\"0\", \"1\", \"2\", \"3\", \"4\", \"5\", \"6\", \"7\", \"8\", \"9\", \"10\", \"11\", \"12\", \"13\", \"14\"], \"mode\": \"markers\", \"name\": \"average_precision_score_macro\", \"stepped\": false, \"type\": \"scatter\", \"data\": [0.9538750636635275, 0.9203817149239759, 0.8731887274063151, 0.7061855666410924, 0.7480804031757037, 0.8889539033978883, 0.8395057188941097, 0.7367901058302949, 0.8469464981898369, 0.743156941004375, 0.8250173578654769, 0.7345548121807189, 0.7102542389644857, 0.9540546831890161, 0.9472342888977735]}, {\"categories\": [\"0\", \"1\", \"2\", \"3\", \"4\", \"5\", \"6\", \"7\", \"8\", \"9\", \"10\", \"11\", \"12\", \"13\", \"14\"], \"mode\": \"lines\", \"name\": \"average_precision_score_macro_max\", \"stepped\": true, \"type\": \"scatter\", \"data\": [0.9538750636635275, 0.9538750636635275, 0.9538750636635275, 0.9538750636635275, 0.9538750636635275, 0.9538750636635275, 0.9538750636635275, 0.9538750636635275, 0.9538750636635275, 0.9538750636635275, 0.9538750636635275, 0.9538750636635275, 0.9538750636635275, 0.9540546831890161, 0.9540546831890161]}], \"matthews_correlation\": [{\"categories\": [\"0\", \"1\", \"2\", \"3\", \"4\", \"5\", \"6\", \"7\", \"8\", \"9\", \"10\", \"11\", \"12\", \"13\", \"14\"], \"mode\": \"markers\", \"name\": \"matthews_correlation\", \"stepped\": false, \"type\": \"scatter\", \"data\": [0.7992586318533791, 0.769565433790818, 0.6347539457372054, 0.3043451960837093, 0.34628915909533375, 0.643680234473021, 0.493175466367677, 0.3635988853066725, 0.5757321746144471, 0.3500005936203349, 0.574137845826652, 0.33455737969600663, 0.3293945710077844, 0.8014024995830107, 0.7988043498533235]}, {\"categories\": [\"0\", \"1\", \"2\", \"3\", \"4\", \"5\", \"6\", \"7\", \"8\", \"9\", \"10\", \"11\", \"12\", \"13\", \"14\"], \"mode\": \"lines\", \"name\": \"matthews_correlation_max\", \"stepped\": true, \"type\": \"scatter\", \"data\": [0.7992586318533791, 0.7992586318533791, 0.7992586318533791, 0.7992586318533791, 0.7992586318533791, 0.7992586318533791, 0.7992586318533791, 0.7992586318533791, 0.7992586318533791, 0.7992586318533791, 0.7992586318533791, 0.7992586318533791, 0.7992586318533791, 0.8014024995830107, 0.8014024995830107]}], \"recall_score_weighted\": [{\"categories\": [\"0\", \"1\", \"2\", \"3\", \"4\", \"5\", \"6\", \"7\", \"8\", \"9\", \"10\", \"11\", \"12\", \"13\", \"14\"], \"mode\": \"markers\", \"name\": \"recall_score_weighted\", \"stepped\": false, \"type\": \"scatter\", \"data\": [0.9, 0.8855555555555554, 0.8133333333333332, 0.6544444444444444, 0.6677777777777778, 0.8233333333333333, 0.75, 0.6833333333333333, 0.7877777777777778, 0.6755555555555555, 0.7855555555555556, 0.6722222222222223, 0.6622222222222222, 0.9011111111111113, 0.9]}, {\"categories\": [\"0\", \"1\", \"2\", \"3\", \"4\", \"5\", \"6\", \"7\", \"8\", \"9\", \"10\", \"11\", \"12\", \"13\", \"14\"], \"mode\": \"lines\", \"name\": \"recall_score_weighted_max\", \"stepped\": true, \"type\": \"scatter\", \"data\": [0.9, 0.9, 0.9, 0.9, 0.9, 0.9, 0.9, 0.9, 0.9, 0.9, 0.9, 0.9, 0.9, 0.9011111111111113, 0.9011111111111113]}], \"recall_score_micro\": [{\"categories\": [\"0\", \"1\", \"2\", \"3\", \"4\", \"5\", \"6\", \"7\", \"8\", \"9\", \"10\", \"11\", \"12\", \"13\", \"14\"], \"mode\": \"markers\", \"name\": \"recall_score_micro\", \"stepped\": false, \"type\": \"scatter\", \"data\": [0.9, 0.8855555555555554, 0.8133333333333332, 0.6544444444444444, 0.6677777777777778, 0.8233333333333333, 0.75, 0.6833333333333333, 0.7877777777777778, 0.6755555555555555, 0.7855555555555556, 0.6722222222222223, 0.6622222222222222, 0.9011111111111113, 0.9]}, {\"categories\": [\"0\", \"1\", \"2\", \"3\", \"4\", \"5\", \"6\", \"7\", \"8\", \"9\", \"10\", \"11\", \"12\", \"13\", \"14\"], \"mode\": \"lines\", \"name\": \"recall_score_micro_max\", \"stepped\": true, \"type\": \"scatter\", \"data\": [0.9, 0.9, 0.9, 0.9, 0.9, 0.9, 0.9, 0.9, 0.9, 0.9, 0.9, 0.9, 0.9, 0.9011111111111113, 0.9011111111111113]}], \"log_loss\": [{\"categories\": [\"0\", \"1\", \"2\", \"3\", \"4\", \"5\", \"6\", \"7\", \"8\", \"9\", \"10\", \"11\", \"12\", \"13\", \"14\"], \"mode\": \"markers\", \"name\": \"log_loss\", \"stepped\": false, \"type\": \"scatter\", \"data\": [0.27286860395442303, 0.3497934911389097, 0.4825393609356928, 0.6201845612836048, 0.8173845930736245, 0.45071856609253746, 0.5257851729156782, 0.599759946076864, 0.49798524493947394, 0.5971601894500992, 0.5372135991514528, 0.5996826513648091, 0.623898695509976, 0.26587787285006387, 0.28359879101128077]}, {\"categories\": [\"0\", \"1\", \"2\", \"3\", \"4\", \"5\", \"6\", \"7\", \"8\", \"9\", \"10\", \"11\", \"12\", \"13\", \"14\"], \"mode\": \"lines\", \"name\": \"log_loss_min\", \"stepped\": true, \"type\": \"scatter\", \"data\": [0.27286860395442303, 0.27286860395442303, 0.27286860395442303, 0.27286860395442303, 0.27286860395442303, 0.27286860395442303, 0.27286860395442303, 0.27286860395442303, 0.27286860395442303, 0.27286860395442303, 0.27286860395442303, 0.27286860395442303, 0.27286860395442303, 0.26587787285006387, 0.26587787285006387]}], \"precision_score_micro\": [{\"categories\": [\"0\", \"1\", \"2\", \"3\", \"4\", \"5\", \"6\", \"7\", \"8\", \"9\", \"10\", \"11\", \"12\", \"13\", \"14\"], \"mode\": \"markers\", \"name\": \"precision_score_micro\", \"stepped\": false, \"type\": \"scatter\", \"data\": [0.9, 0.8855555555555554, 0.8133333333333332, 0.6544444444444444, 0.6677777777777778, 0.8233333333333333, 0.75, 0.6833333333333333, 0.7877777777777778, 0.6755555555555555, 0.7855555555555556, 0.6722222222222223, 0.6622222222222222, 0.9011111111111113, 0.9]}, {\"categories\": [\"0\", \"1\", \"2\", \"3\", \"4\", \"5\", \"6\", \"7\", \"8\", \"9\", \"10\", \"11\", \"12\", \"13\", \"14\"], \"mode\": \"lines\", \"name\": \"precision_score_micro_max\", \"stepped\": true, \"type\": \"scatter\", \"data\": [0.9, 0.9, 0.9, 0.9, 0.9, 0.9, 0.9, 0.9, 0.9, 0.9, 0.9, 0.9, 0.9, 0.9011111111111113, 0.9011111111111113]}], \"f1_score_macro\": [{\"categories\": [\"0\", \"1\", \"2\", \"3\", \"4\", \"5\", \"6\", \"7\", \"8\", \"9\", \"10\", \"11\", \"12\", \"13\", \"14\"], \"mode\": \"markers\", \"name\": \"f1_score_macro\", \"stepped\": false, \"type\": \"scatter\", \"data\": [0.8979699223839818, 0.8834236338043455, 0.8068308035580591, 0.6493269489120962, 0.654429947404435, 0.819912754957085, 0.7444256063144126, 0.677218552160774, 0.7822876849340636, 0.6721688181404109, 0.7796013910515711, 0.6611951578110473, 0.6571310818693507, 0.8990893082859763, 0.8980889061999212]}, {\"categories\": [\"0\", \"1\", \"2\", \"3\", \"4\", \"5\", \"6\", \"7\", \"8\", \"9\", \"10\", \"11\", \"12\", \"13\", \"14\"], \"mode\": \"lines\", \"name\": \"f1_score_macro_max\", \"stepped\": true, \"type\": \"scatter\", \"data\": [0.8979699223839818, 0.8979699223839818, 0.8979699223839818, 0.8979699223839818, 0.8979699223839818, 0.8979699223839818, 0.8979699223839818, 0.8979699223839818, 0.8979699223839818, 0.8979699223839818, 0.8979699223839818, 0.8979699223839818, 0.8979699223839818, 0.8990893082859763, 0.8990893082859763]}], \"accuracy\": [{\"categories\": [\"0\", \"1\", \"2\", \"3\", \"4\", \"5\", \"6\", \"7\", \"8\", \"9\", \"10\", \"11\", \"12\", \"13\", \"14\"], \"mode\": \"markers\", \"name\": \"accuracy\", \"stepped\": false, \"type\": \"scatter\", \"data\": [0.9, 0.8855555555555554, 0.8133333333333332, 0.6544444444444444, 0.6677777777777778, 0.8233333333333333, 0.75, 0.6833333333333333, 0.7877777777777778, 0.6755555555555555, 0.7855555555555556, 0.6722222222222223, 0.6622222222222222, 0.9011111111111113, 0.9]}, {\"categories\": [\"0\", \"1\", \"2\", \"3\", \"4\", \"5\", \"6\", \"7\", \"8\", \"9\", \"10\", \"11\", \"12\", \"13\", \"14\"], \"mode\": \"lines\", \"name\": \"accuracy_max\", \"stepped\": true, \"type\": \"scatter\", \"data\": [0.9, 0.9, 0.9, 0.9, 0.9, 0.9, 0.9, 0.9, 0.9, 0.9, 0.9, 0.9, 0.9, 0.9011111111111113, 0.9011111111111113]}], \"average_precision_score_weighted\": [{\"categories\": [\"0\", \"1\", \"2\", \"3\", \"4\", \"5\", \"6\", \"7\", \"8\", \"9\", \"10\", \"11\", \"12\", \"13\", \"14\"], \"mode\": \"markers\", \"name\": \"average_precision_score_weighted\", \"stepped\": false, \"type\": \"scatter\", \"data\": [0.95431203818766, 0.9207201750902231, 0.8744012585966745, 0.7116307617930056, 0.752994244834208, 0.890792437602409, 0.8435571192601072, 0.7418070719327522, 0.8477193138990679, 0.7478392014367725, 0.8263065278673677, 0.7394783769693045, 0.7156352883376798, 0.9546924817479236, 0.947893507908159]}, {\"categories\": [\"0\", \"1\", \"2\", \"3\", \"4\", \"5\", \"6\", \"7\", \"8\", \"9\", \"10\", \"11\", \"12\", \"13\", \"14\"], \"mode\": \"lines\", \"name\": \"average_precision_score_weighted_max\", \"stepped\": true, \"type\": \"scatter\", \"data\": [0.95431203818766, 0.95431203818766, 0.95431203818766, 0.95431203818766, 0.95431203818766, 0.95431203818766, 0.95431203818766, 0.95431203818766, 0.95431203818766, 0.95431203818766, 0.95431203818766, 0.95431203818766, 0.95431203818766, 0.9546924817479236, 0.9546924817479236]}]}, \"metricName\": null, \"primaryMetricName\": \"AUC_weighted\", \"showLegend\": false}, \"run_metrics\": [{\"name\": \"experiment_status\", \"run_id\": \"AutoML_0de558c3-a08d-4c8d-abef-02192ae96848\", \"categories\": [0, 1, 2, 3, 4, 5, 6, 7, 8, 9, 10, 11], \"series\": [{\"data\": [\"DatasetEvaluation\", \"FeaturesGeneration\", \"DatasetFeaturization\", \"DatasetFeaturizationCompleted\", \"DatasetCrossValidationSplit\", \"ModelSelection\", \"BestRunExplainModel\", \"ModelExplanationDataSetSetup\", \"PickSurrogateModel\", \"EngineeredFeatureExplanations\", \"EngineeredFeatureExplanations\", \"BestRunExplainModel\"]}]}, {\"name\": \"experiment_status_description\", \"run_id\": \"AutoML_0de558c3-a08d-4c8d-abef-02192ae96848\", \"categories\": [0, 1, 2, 3, 4, 5, 6, 7, 8, 9, 10, 11], \"series\": [{\"data\": [\"Gathering dataset statistics.\", \"Generating features for the dataset.\", \"Beginning to fit featurizers and featurize the dataset.\", \"Completed fit featurizers and featurizing the dataset.\", \"Generating individually featurized CV splits.\", \"Beginning model selection.\", \"Model explanations data setup completed\", \"Best run model explanations started\", \"Choosing LightGBM as the surrogate model for explanations\", \"Computation of engineered features started\", \"Computation of engineered features completed\", \"Best run model explanations completed\"]}]}, {\"name\": \"balanced_accuracy\", \"run_id\": \"AutoML_0de558c3-a08d-4c8d-abef-02192ae96848\", \"categories\": [0], \"series\": [{\"data\": [0.8971070705327483]}]}, {\"name\": \"f1_score_micro\", \"run_id\": \"AutoML_0de558c3-a08d-4c8d-abef-02192ae96848\", \"categories\": [0], \"series\": [{\"data\": [0.9011111111111113]}]}, {\"name\": \"norm_macro_recall\", \"run_id\": \"AutoML_0de558c3-a08d-4c8d-abef-02192ae96848\", \"categories\": [0], \"series\": [{\"data\": [0.7942141410654966]}]}, {\"name\": \"AUC_micro\", \"run_id\": \"AutoML_0de558c3-a08d-4c8d-abef-02192ae96848\", \"categories\": [0], \"series\": [{\"data\": [0.9564506172839506]}]}, {\"name\": \"average_precision_score_micro\", \"run_id\": \"AutoML_0de558c3-a08d-4c8d-abef-02192ae96848\", \"categories\": [0], \"series\": [{\"data\": [0.9551939342274629]}]}, {\"name\": \"precision_score_macro\", \"run_id\": \"AutoML_0de558c3-a08d-4c8d-abef-02192ae96848\", \"categories\": [0], \"series\": [{\"data\": [0.904368833208126]}]}, {\"name\": \"average_precision_score_macro\", \"run_id\": \"AutoML_0de558c3-a08d-4c8d-abef-02192ae96848\", \"categories\": [0], \"series\": [{\"data\": [0.9540546831890161]}]}, {\"name\": \"precision_score_weighted\", \"run_id\": \"AutoML_0de558c3-a08d-4c8d-abef-02192ae96848\", \"categories\": [0], \"series\": [{\"data\": [0.9033759666421599]}]}, {\"name\": \"recall_score_micro\", \"run_id\": \"AutoML_0de558c3-a08d-4c8d-abef-02192ae96848\", \"categories\": [0], \"series\": [{\"data\": [0.9011111111111113]}]}, {\"name\": \"matthews_correlation\", \"run_id\": \"AutoML_0de558c3-a08d-4c8d-abef-02192ae96848\", \"categories\": [0], \"series\": [{\"data\": [0.8014024995830107]}]}, {\"name\": \"recall_score_macro\", \"run_id\": \"AutoML_0de558c3-a08d-4c8d-abef-02192ae96848\", \"categories\": [0], \"series\": [{\"data\": [0.8971070705327483]}]}, {\"name\": \"f1_score_weighted\", \"run_id\": \"AutoML_0de558c3-a08d-4c8d-abef-02192ae96848\", \"categories\": [0], \"series\": [{\"data\": [0.9006485931026293]}]}, {\"name\": \"log_loss\", \"run_id\": \"AutoML_0de558c3-a08d-4c8d-abef-02192ae96848\", \"categories\": [0], \"series\": [{\"data\": [0.26587787285006387]}]}, {\"name\": \"accuracy\", \"run_id\": \"AutoML_0de558c3-a08d-4c8d-abef-02192ae96848\", \"categories\": [0], \"series\": [{\"data\": [0.9011111111111113]}]}, {\"name\": \"AUC_macro\", \"run_id\": \"AutoML_0de558c3-a08d-4c8d-abef-02192ae96848\", \"categories\": [0], \"series\": [{\"data\": [0.9546916508256732]}]}, {\"name\": \"weighted_accuracy\", \"run_id\": \"AutoML_0de558c3-a08d-4c8d-abef-02192ae96848\", \"categories\": [0], \"series\": [{\"data\": [0.9049220285710632]}]}, {\"name\": \"f1_score_macro\", \"run_id\": \"AutoML_0de558c3-a08d-4c8d-abef-02192ae96848\", \"categories\": [0], \"series\": [{\"data\": [0.8990893082859763]}]}, {\"name\": \"recall_score_weighted\", \"run_id\": \"AutoML_0de558c3-a08d-4c8d-abef-02192ae96848\", \"categories\": [0], \"series\": [{\"data\": [0.9011111111111113]}]}, {\"name\": \"AUC_weighted\", \"run_id\": \"AutoML_0de558c3-a08d-4c8d-abef-02192ae96848\", \"categories\": [0], \"series\": [{\"data\": [0.9546916508256732]}]}, {\"name\": \"precision_score_micro\", \"run_id\": \"AutoML_0de558c3-a08d-4c8d-abef-02192ae96848\", \"categories\": [0], \"series\": [{\"data\": [0.9011111111111113]}]}, {\"name\": \"average_precision_score_weighted\", \"run_id\": \"AutoML_0de558c3-a08d-4c8d-abef-02192ae96848\", \"categories\": [0], \"series\": [{\"data\": [0.9546924817479236]}]}], \"run_logs\": \"\\nRun is completed.\", \"graph\": {}, \"widget_settings\": {\"childWidgetDisplay\": \"popup\", \"send_telemetry\": false, \"log_level\": \"INFO\", \"sdk_version\": \"1.13.0\"}, \"loading\": false}"
     },
     "metadata": {},
     "output_type": "display_data"
    }
   ],
   "source": [
    "from azureml.widgets import RunDetails\n",
    "RunDetails(run).show()"
   ]
  },
  {
   "cell_type": "markdown",
   "metadata": {},
   "source": [
    "### Models are available in the experimentation\n",
    "<img src='https://github.com/retkowsky/images/blob/master/automlsnapshot1.jpg?raw=true'>"
   ]
  },
  {
   "cell_type": "markdown",
   "metadata": {},
   "source": [
    "## 4. Let's take the best model"
   ]
  },
  {
   "cell_type": "code",
   "execution_count": 45,
   "metadata": {},
   "outputs": [],
   "source": [
    "best_run, fitted_model = run.get_output()"
   ]
  },
  {
   "cell_type": "code",
   "execution_count": 46,
   "metadata": {},
   "outputs": [
    {
     "name": "stdout",
     "output_type": "stream",
     "text": [
      "Best model is: Pipeline(memory=None,\n",
      "     steps=[('datatransformer', DataTransformer(enable_dnn=None, enable_feature_sweeping=None,\n",
      "        feature_sweeping_config=None, feature_sweeping_timeout=None,\n",
      "        featurization_config=None, force_text_dnn=None,\n",
      "        is_cross_validation=None, is_onnx_compatible=None, logger=None,\n",
      "        obser...    silent=True, subsample=1.0, subsample_for_bin=200000,\n",
      "          subsample_freq=0, verbose=-10))])\n",
      "Y_transformer(['LabelEncoder', LabelEncoder()])\n"
     ]
    }
   ],
   "source": [
    "print(\"Best model is:\", fitted_model)"
   ]
  },
  {
   "cell_type": "markdown",
   "metadata": {},
   "source": [
    "### List of metrics for the best model"
   ]
  },
  {
   "cell_type": "code",
   "execution_count": 47,
   "metadata": {},
   "outputs": [
    {
     "name": "stdout",
     "output_type": "stream",
     "text": [
      "- balanced_accuracy = 0.8959959594216371\n",
      "- AUC_micro = 0.9566790123456791\n",
      "- average_precision_score_micro = 0.9557387736196119\n",
      "- precision_score_weighted = 0.9023433110736171\n",
      "- precision_score_macro = 0.9033361776395832\n",
      "- norm_macro_recall = 0.7919919188432745\n",
      "- f1_score_micro = 0.9000000000000001\n",
      "- AUC_weighted = 0.9544953828630774\n",
      "- recall_score_macro = 0.8959959594216371\n",
      "- average_precision_score_macro = 0.9538750636635275\n",
      "- matthews_correlation = 0.7992586318533791\n",
      "- recall_score_weighted = 0.9\n",
      "- recall_score_micro = 0.9\n",
      "- confusion_matrix = aml://artifactId/ExperimentRun/dcid.AutoML_75dcbf87-da30-4631-a5be-67702c814620_0/confusion_matrix\n",
      "- precision_score_micro = 0.9\n",
      "- accuracy = 0.9\n",
      "- f1_score_macro = 0.8979699223839818\n",
      "- f1_score_weighted = 0.8995292072006347\n",
      "- weighted_accuracy = 0.9038109174599521\n",
      "- log_loss = 0.27286860395442303\n",
      "- average_precision_score_weighted = 0.95431203818766\n",
      "- accuracy_table = aml://artifactId/ExperimentRun/dcid.AutoML_75dcbf87-da30-4631-a5be-67702c814620_0/accuracy_table\n",
      "- AUC_macro = 0.9544953828630774\n"
     ]
    }
   ],
   "source": [
    "best_run_metrics = best_run.get_metrics()\n",
    "for metric_name in best_run_metrics:\n",
    "    metric = best_run_metrics[metric_name]\n",
    "    print('-', metric_name, '=', metric)"
   ]
  },
  {
   "cell_type": "markdown",
   "metadata": {},
   "source": [
    "### Let's register the best model"
   ]
  },
  {
   "cell_type": "code",
   "execution_count": 48,
   "metadata": {},
   "outputs": [
    {
     "data": {
      "text/plain": [
       "Model(workspace=Workspace.create(name='azuremlsynapse', subscription_id='70b8f39e-8863-49f7-b6ba-34a80799550c', resource_group='azuremlsynapse-rg'), name=MarketingCampaignModel, id=MarketingCampaignModel:4, version=4, tags={'Training context': 'Azure Auto ML sdk', 'Objet': 'Marketing Campaign ML prediction model', 'Team': 'Marketing'}, properties={'AUC': '0.9544953828630774', 'Log Loss': '0.27286860395442303', 'Recall': '0.9', 'Precision': '0.9023433110736171', 'F1': '0.8995292072006347'})"
      ]
     },
     "execution_count": 48,
     "metadata": {},
     "output_type": "execute_result"
    }
   ],
   "source": [
    "from azureml.core import Model\n",
    "\n",
    "best_run.register_model(model_path='outputs/model.pkl', \n",
    "                        model_name='MarketingCampaignModel',\n",
    "                        tags={'Training context':'Azure Auto ML sdk', \n",
    "                              'Objet':'Marketing Campaign ML prediction model',\n",
    "                              'Team' : 'Marketing' } ,\n",
    "                        properties={'AUC': best_run_metrics['AUC_weighted'] , \n",
    "                                    'Log Loss': best_run_metrics['log_loss'] ,\n",
    "                                    'Recall': best_run_metrics['recall_score_weighted'] ,\n",
    "                                    'Precision': best_run_metrics['precision_score_weighted'] ,\n",
    "                                    'F1': best_run_metrics['f1_score_weighted'] ,\n",
    "                                   }\n",
    "                       )"
   ]
  },
  {
   "cell_type": "markdown",
   "metadata": {},
   "source": [
    "### We can display all the models saved into the Azure ML model repository"
   ]
  },
  {
   "cell_type": "code",
   "execution_count": 49,
   "metadata": {},
   "outputs": [
    {
     "name": "stdout",
     "output_type": "stream",
     "text": [
      "MarketingCampaignModel - version = 4\n",
      "\t Training context : Azure Auto ML sdk\n",
      "\t Objet : Marketing Campaign ML prediction model\n",
      "\t Team : Marketing\n",
      "\t AUC : 0.9544953828630774\n",
      "\t Log Loss : 0.27286860395442303\n",
      "\t Recall : 0.9\n",
      "\t Precision : 0.9023433110736171\n",
      "\t F1 : 0.8995292072006347\n",
      "\n",
      "\n",
      "MarketingCampaignModel - version = 3\n",
      "\t Training context : Azure Auto ML sdk\n",
      "\t Objet : Marketing Campaign ML prediction model\n",
      "\t Team : Marketing\n",
      "\t AUC : 0.9546916508256732\n",
      "\t Log Loss : 0.26587787285006387\n",
      "\t Recall : 0.9011111111111113\n",
      "\t Precision : 0.9033759666421599\n",
      "\t F1 : 0.9006485931026293\n",
      "\n",
      "\n",
      "MarketingCampaignModel - version = 2\n",
      "\t Training context : Azure Auto ML sdk\n",
      "\t Objet : Marketing Campaign ML prediction model\n",
      "\t Team : Marketing\n",
      "\t AUC : 0.9544953828630774\n",
      "\t Log Loss : 0.27286860395442303\n",
      "\t Recall : 0.9\n",
      "\t Precision : 0.9023433110736171\n",
      "\t F1 : 0.8995292072006347\n",
      "\n",
      "\n",
      "MarketingCampaignModel - version = 1\n",
      "\t Training context : Azure Auto ML sdk\n",
      "\t Objet : Marketing Campaign ML prediction model\n",
      "\t Team : Marketing\n",
      "\t AUC : 0.9328369687717647\n",
      "\t Log Loss : 0.3462249087161066\n",
      "\t Recall : 0.8811111111111112\n",
      "\t Precision : 0.8834080928431428\n",
      "\t F1 : 0.8806515723412066\n",
      "\n",
      "\n"
     ]
    }
   ],
   "source": [
    "for model in Model.list(ws):\n",
    "    print(model.name, '- version =', model.version)\n",
    "    for tag_name in model.tags:\n",
    "        tag = model.tags[tag_name]\n",
    "        print ('\\t',tag_name, ':', tag)\n",
    "    for prop_name in model.properties:\n",
    "        prop = model.properties[prop_name]\n",
    "        print ('\\t',prop_name, ':', prop)\n",
    "    print('\\n')"
   ]
  },
  {
   "cell_type": "markdown",
   "metadata": {},
   "source": [
    "### Models are available in the Azure ML repository\n",
    "<img src='https://github.com/retkowsky/images/blob/master/automlsnapshot3.jpg?raw=true'>"
   ]
  },
  {
   "cell_type": "markdown",
   "metadata": {},
   "source": [
    "### Details\n",
    "<img src='https://github.com/retkowsky/images/blob/master/automlsnapshot2.jpg?raw=true'>"
   ]
  },
  {
   "cell_type": "markdown",
   "metadata": {},
   "source": [
    "> End of notebook"
   ]
  }
 ],
 "metadata": {
  "kernelspec": {
   "display_name": "Python 3.6 - AzureML",
   "language": "python",
   "name": "python3-azureml"
  },
  "language_info": {
   "codemirror_mode": {
    "name": "ipython",
    "version": 3
   },
   "file_extension": ".py",
   "mimetype": "text/x-python",
   "name": "python",
   "nbconvert_exporter": "python",
   "pygments_lexer": "ipython3",
   "version": "3.6.9"
  }
 },
 "nbformat": 4,
 "nbformat_minor": 4
}
